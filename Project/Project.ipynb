{
 "cells": [
  {
   "cell_type": "markdown",
   "metadata": {},
   "source": [
    "# Hyun-Joon Yang\n",
    "# yanghyun@usc.edu\n",
    "# BISC 444\n",
    "# Final Project"
   ]
  },
  {
   "cell_type": "markdown",
   "metadata": {},
   "source": [
    "<hr>"
   ]
  },
  {
   "cell_type": "markdown",
   "metadata": {},
   "source": [
    "## 0) Introduction"
   ]
  },
  {
   "cell_type": "markdown",
   "metadata": {},
   "source": [
    "## 1) Setup"
   ]
  },
  {
   "cell_type": "code",
   "execution_count": 1,
   "metadata": {},
   "outputs": [],
   "source": [
    "rm(list=ls())"
   ]
  },
  {
   "cell_type": "code",
   "execution_count": 2,
   "metadata": {},
   "outputs": [],
   "source": [
    "# if (!requireNamespace(\"BiocManager\", quietly = TRUE))\n",
    "#     install.packages(\"BiocManager\")\n",
    "\n",
    "# BiocManager::install(\"DNAshapeR\")"
   ]
  },
  {
   "cell_type": "code",
   "execution_count": 3,
   "metadata": {},
   "outputs": [],
   "source": [
    "# install.packages('caret')"
   ]
  },
  {
   "cell_type": "code",
   "execution_count": 4,
   "metadata": {},
   "outputs": [
    {
     "name": "stderr",
     "output_type": "stream",
     "text": [
      "Loading required package: GenomicRanges\n",
      "Loading required package: stats4\n",
      "Loading required package: BiocGenerics\n",
      "Loading required package: parallel\n",
      "\n",
      "Attaching package: 'BiocGenerics'\n",
      "\n",
      "The following objects are masked from 'package:parallel':\n",
      "\n",
      "    clusterApply, clusterApplyLB, clusterCall, clusterEvalQ,\n",
      "    clusterExport, clusterMap, parApply, parCapply, parLapply,\n",
      "    parLapplyLB, parRapply, parSapply, parSapplyLB\n",
      "\n",
      "The following objects are masked from 'package:stats':\n",
      "\n",
      "    IQR, mad, sd, var, xtabs\n",
      "\n",
      "The following objects are masked from 'package:base':\n",
      "\n",
      "    anyDuplicated, append, as.data.frame, basename, cbind, colnames,\n",
      "    dirname, do.call, duplicated, eval, evalq, Filter, Find, get, grep,\n",
      "    grepl, intersect, is.unsorted, lapply, Map, mapply, match, mget,\n",
      "    order, paste, pmax, pmax.int, pmin, pmin.int, Position, rank,\n",
      "    rbind, Reduce, rownames, sapply, setdiff, sort, table, tapply,\n",
      "    union, unique, unsplit, which, which.max, which.min\n",
      "\n",
      "Loading required package: S4Vectors\n",
      "Warning message:\n",
      "\"package 'S4Vectors' was built under R version 3.6.3\"\n",
      "Attaching package: 'S4Vectors'\n",
      "\n",
      "The following object is masked from 'package:base':\n",
      "\n",
      "    expand.grid\n",
      "\n",
      "Loading required package: IRanges\n",
      "Warning message:\n",
      "\"package 'IRanges' was built under R version 3.6.2\"\n",
      "Attaching package: 'IRanges'\n",
      "\n",
      "The following object is masked from 'package:grDevices':\n",
      "\n",
      "    windows\n",
      "\n",
      "Loading required package: GenomeInfoDb\n",
      "Warning message:\n",
      "\"package 'GenomeInfoDb' was built under R version 3.6.3\"Warning message:\n",
      "\"package 'caret' was built under R version 3.6.3\"Loading required package: lattice\n",
      "Loading required package: ggplot2\n",
      "Registered S3 methods overwritten by 'ggplot2':\n",
      "  method         from \n",
      "  [.quosures     rlang\n",
      "  c.quosures     rlang\n",
      "  print.quosures rlang\n"
     ]
    }
   ],
   "source": [
    "library(DNAshapeR)\n",
    "library(caret)\n",
    "library(ggplot2)\n",
    "library(grid)"
   ]
  },
  {
   "cell_type": "markdown",
   "metadata": {},
   "source": [
    "## 2) Predict shape from sequence\n",
    "\n",
    "DNAshapeR package was used to predict DNA shape for each sequence bound by transcription factor Mad, Max and Myc. The datasets were obtained from the in vitro gcPBM (genomic context protein binding microarray) assay. The sequence data in FASTA format (Mad.fa, Max.fa and Myc.fa)."
   ]
  },
  {
   "cell_type": "code",
   "execution_count": 5,
   "metadata": {},
   "outputs": [],
   "source": [
    "# names\n",
    "ns <- c('Mad', 'Max', 'Myc')"
   ]
  },
  {
   "cell_type": "markdown",
   "metadata": {},
   "source": [
    "#### Preview of the raw data\n",
    "For each of the TF's FASTA file is just a single column in which the rows alternate by comment 'seq#' and the actual sequence that is 36 nucleotides long."
   ]
  },
  {
   "cell_type": "code",
   "execution_count": 6,
   "metadata": {},
   "outputs": [
    {
     "name": "stdout",
     "output_type": "stream",
     "text": [
      "Mad"
     ]
    },
    {
     "data": {
      "text/html": [
       "<table>\n",
       "<thead><tr><th scope=col>V1</th></tr></thead>\n",
       "<tbody>\n",
       "\t<tr><td><span style=white-space:pre-wrap>&gt;seq1                               </span></td></tr>\n",
       "\t<tr><td>GGGCATGAAAGCCACCTCGTGGTTTTGCAGCAAGTG</td></tr>\n",
       "\t<tr><td><span style=white-space:pre-wrap>&gt;seq2                               </span></td></tr>\n",
       "\t<tr><td>CGGGGAGGAGCCACCCACGCGCCACAGCAAGTCCTG</td></tr>\n",
       "\t<tr><td><span style=white-space:pre-wrap>&gt;seq3                               </span></td></tr>\n",
       "\t<tr><td>GGCGGCCCGGGCATCCACGTGGGTCGGGCTCCTGGT</td></tr>\n",
       "</tbody>\n",
       "</table>\n"
      ],
      "text/latex": [
       "\\begin{tabular}{r|l}\n",
       " V1\\\\\n",
       "\\hline\n",
       "\t >seq1                               \\\\\n",
       "\t GGGCATGAAAGCCACCTCGTGGTTTTGCAGCAAGTG\\\\\n",
       "\t >seq2                               \\\\\n",
       "\t CGGGGAGGAGCCACCCACGCGCCACAGCAAGTCCTG\\\\\n",
       "\t >seq3                               \\\\\n",
       "\t GGCGGCCCGGGCATCCACGTGGGTCGGGCTCCTGGT\\\\\n",
       "\\end{tabular}\n"
      ],
      "text/markdown": [
       "\n",
       "| V1 |\n",
       "|---|\n",
       "| >seq1                                |\n",
       "| GGGCATGAAAGCCACCTCGTGGTTTTGCAGCAAGTG |\n",
       "| >seq2                                |\n",
       "| CGGGGAGGAGCCACCCACGCGCCACAGCAAGTCCTG |\n",
       "| >seq3                                |\n",
       "| GGCGGCCCGGGCATCCACGTGGGTCGGGCTCCTGGT |\n",
       "\n"
      ],
      "text/plain": [
       "  V1                                  \n",
       "1 >seq1                               \n",
       "2 GGGCATGAAAGCCACCTCGTGGTTTTGCAGCAAGTG\n",
       "3 >seq2                               \n",
       "4 CGGGGAGGAGCCACCCACGCGCCACAGCAAGTCCTG\n",
       "5 >seq3                               \n",
       "6 GGCGGCCCGGGCATCCACGTGGGTCGGGCTCCTGGT"
      ]
     },
     "metadata": {},
     "output_type": "display_data"
    },
    {
     "data": {
      "text/html": [
       "<ol class=list-inline>\n",
       "\t<li>15068</li>\n",
       "\t<li>1</li>\n",
       "</ol>\n"
      ],
      "text/latex": [
       "\\begin{enumerate*}\n",
       "\\item 15068\n",
       "\\item 1\n",
       "\\end{enumerate*}\n"
      ],
      "text/markdown": [
       "1. 15068\n",
       "2. 1\n",
       "\n",
       "\n"
      ],
      "text/plain": [
       "[1] 15068     1"
      ]
     },
     "metadata": {},
     "output_type": "display_data"
    },
    {
     "name": "stdout",
     "output_type": "stream",
     "text": [
      "Max"
     ]
    },
    {
     "data": {
      "text/html": [
       "<table>\n",
       "<thead><tr><th scope=col>V1</th></tr></thead>\n",
       "<tbody>\n",
       "\t<tr><td><span style=white-space:pre-wrap>&gt;seq1                               </span></td></tr>\n",
       "\t<tr><td>GAAGCCCTGGCGGGGCGCGTGCCCGCCGCCGCCGCC</td></tr>\n",
       "\t<tr><td><span style=white-space:pre-wrap>&gt;seq2                               </span></td></tr>\n",
       "\t<tr><td>TCCCGGGGCTAGAGGCATGTGGACTCAGGAGGATGA</td></tr>\n",
       "\t<tr><td><span style=white-space:pre-wrap>&gt;seq3                               </span></td></tr>\n",
       "\t<tr><td>GGCGCTGCCGGACTGCGCGTGGAGTGGCGCGCTGCT</td></tr>\n",
       "</tbody>\n",
       "</table>\n"
      ],
      "text/latex": [
       "\\begin{tabular}{r|l}\n",
       " V1\\\\\n",
       "\\hline\n",
       "\t >seq1                               \\\\\n",
       "\t GAAGCCCTGGCGGGGCGCGTGCCCGCCGCCGCCGCC\\\\\n",
       "\t >seq2                               \\\\\n",
       "\t TCCCGGGGCTAGAGGCATGTGGACTCAGGAGGATGA\\\\\n",
       "\t >seq3                               \\\\\n",
       "\t GGCGCTGCCGGACTGCGCGTGGAGTGGCGCGCTGCT\\\\\n",
       "\\end{tabular}\n"
      ],
      "text/markdown": [
       "\n",
       "| V1 |\n",
       "|---|\n",
       "| >seq1                                |\n",
       "| GAAGCCCTGGCGGGGCGCGTGCCCGCCGCCGCCGCC |\n",
       "| >seq2                                |\n",
       "| TCCCGGGGCTAGAGGCATGTGGACTCAGGAGGATGA |\n",
       "| >seq3                                |\n",
       "| GGCGCTGCCGGACTGCGCGTGGAGTGGCGCGCTGCT |\n",
       "\n"
      ],
      "text/plain": [
       "  V1                                  \n",
       "1 >seq1                               \n",
       "2 GAAGCCCTGGCGGGGCGCGTGCCCGCCGCCGCCGCC\n",
       "3 >seq2                               \n",
       "4 TCCCGGGGCTAGAGGCATGTGGACTCAGGAGGATGA\n",
       "5 >seq3                               \n",
       "6 GGCGCTGCCGGACTGCGCGTGGAGTGGCGCGCTGCT"
      ]
     },
     "metadata": {},
     "output_type": "display_data"
    },
    {
     "data": {
      "text/html": [
       "<ol class=list-inline>\n",
       "\t<li>17136</li>\n",
       "\t<li>1</li>\n",
       "</ol>\n"
      ],
      "text/latex": [
       "\\begin{enumerate*}\n",
       "\\item 17136\n",
       "\\item 1\n",
       "\\end{enumerate*}\n"
      ],
      "text/markdown": [
       "1. 17136\n",
       "2. 1\n",
       "\n",
       "\n"
      ],
      "text/plain": [
       "[1] 17136     1"
      ]
     },
     "metadata": {},
     "output_type": "display_data"
    },
    {
     "name": "stdout",
     "output_type": "stream",
     "text": [
      "Myc"
     ]
    },
    {
     "data": {
      "text/html": [
       "<table>\n",
       "<thead><tr><th scope=col>V1</th></tr></thead>\n",
       "<tbody>\n",
       "\t<tr><td><span style=white-space:pre-wrap>&gt;seq1                               </span></td></tr>\n",
       "\t<tr><td>ACCGACCGGCGCGGGCACGAGGCAATGGCGGCCGGG</td></tr>\n",
       "\t<tr><td><span style=white-space:pre-wrap>&gt;seq2                               </span></td></tr>\n",
       "\t<tr><td>AACAGCGCCACCGGCCTCGTGCACTTCTTCCACTGT</td></tr>\n",
       "\t<tr><td><span style=white-space:pre-wrap>&gt;seq3                               </span></td></tr>\n",
       "\t<tr><td>GCGGCCGGTCTGCACCATGCTGCGAACGTCCGTCCT</td></tr>\n",
       "</tbody>\n",
       "</table>\n"
      ],
      "text/latex": [
       "\\begin{tabular}{r|l}\n",
       " V1\\\\\n",
       "\\hline\n",
       "\t >seq1                               \\\\\n",
       "\t ACCGACCGGCGCGGGCACGAGGCAATGGCGGCCGGG\\\\\n",
       "\t >seq2                               \\\\\n",
       "\t AACAGCGCCACCGGCCTCGTGCACTTCTTCCACTGT\\\\\n",
       "\t >seq3                               \\\\\n",
       "\t GCGGCCGGTCTGCACCATGCTGCGAACGTCCGTCCT\\\\\n",
       "\\end{tabular}\n"
      ],
      "text/markdown": [
       "\n",
       "| V1 |\n",
       "|---|\n",
       "| >seq1                                |\n",
       "| ACCGACCGGCGCGGGCACGAGGCAATGGCGGCCGGG |\n",
       "| >seq2                                |\n",
       "| AACAGCGCCACCGGCCTCGTGCACTTCTTCCACTGT |\n",
       "| >seq3                                |\n",
       "| GCGGCCGGTCTGCACCATGCTGCGAACGTCCGTCCT |\n",
       "\n"
      ],
      "text/plain": [
       "  V1                                  \n",
       "1 >seq1                               \n",
       "2 ACCGACCGGCGCGGGCACGAGGCAATGGCGGCCGGG\n",
       "3 >seq2                               \n",
       "4 AACAGCGCCACCGGCCTCGTGCACTTCTTCCACTGT\n",
       "5 >seq3                               \n",
       "6 GCGGCCGGTCTGCACCATGCTGCGAACGTCCGTCCT"
      ]
     },
     "metadata": {},
     "output_type": "display_data"
    },
    {
     "data": {
      "text/html": [
       "<ol class=list-inline>\n",
       "\t<li>13852</li>\n",
       "\t<li>1</li>\n",
       "</ol>\n"
      ],
      "text/latex": [
       "\\begin{enumerate*}\n",
       "\\item 13852\n",
       "\\item 1\n",
       "\\end{enumerate*}\n"
      ],
      "text/markdown": [
       "1. 13852\n",
       "2. 1\n",
       "\n",
       "\n"
      ],
      "text/plain": [
       "[1] 13852     1"
      ]
     },
     "metadata": {},
     "output_type": "display_data"
    }
   ],
   "source": [
    "cat('Mad')\n",
    "head(read.table('Mad.fa'))\n",
    "dim(read.table('Mad.fa'))\n",
    "cat('Max')\n",
    "head(read.table('Max.fa'))\n",
    "dim(read.table('Max.fa'))\n",
    "cat('Myc')\n",
    "head(read.table('Myc.fa'))\n",
    "dim(read.table('Myc.fa'))"
   ]
  },
  {
   "cell_type": "markdown",
   "metadata": {},
   "source": [
    "#### Get the shape using DNAShapeR\n",
    "Using the DNAShapeR package, the shape of the sequence was predicted. The shape includes intra-base pair parameters like minor groove width (MGW) and propeller twist (ProT) as well as inter-base pair parameters like roll (Roll) and helical twist (HelT)."
   ]
  },
  {
   "cell_type": "code",
   "execution_count": 7,
   "metadata": {},
   "outputs": [
    {
     "name": "stdout",
     "output_type": "stream",
     "text": [
      "Reading the input sequence......\n",
      "Reading the input sequence......\n",
      "Reading the input sequence......\n",
      "Reading the input sequence......\n",
      "Reading the input sequence......\n"
     ]
    },
    {
     "name": "stderr",
     "output_type": "stream",
     "text": [
      "Parsing files......\n",
      "Record length: 36\n",
      "Record length: 35\n",
      "Record length: 36\n",
      "Record length: 35\n",
      "Record length: 36\n",
      "Done\n"
     ]
    },
    {
     "name": "stdout",
     "output_type": "stream",
     "text": [
      "Reading the input sequence......\n",
      "Reading the input sequence......\n",
      "Reading the input sequence......\n",
      "Reading the input sequence......\n",
      "Reading the input sequence......\n"
     ]
    },
    {
     "name": "stderr",
     "output_type": "stream",
     "text": [
      "Parsing files......\n",
      "Record length: 36\n",
      "Record length: 35\n",
      "Record length: 36\n",
      "Record length: 35\n",
      "Record length: 36\n",
      "Done\n"
     ]
    },
    {
     "name": "stdout",
     "output_type": "stream",
     "text": [
      "Reading the input sequence......\n",
      "Reading the input sequence......\n",
      "Reading the input sequence......\n",
      "Reading the input sequence......\n",
      "Reading the input sequence......\n"
     ]
    },
    {
     "name": "stderr",
     "output_type": "stream",
     "text": [
      "Parsing files......\n",
      "Record length: 36\n",
      "Record length: 35\n",
      "Record length: 36\n",
      "Record length: 35\n",
      "Record length: 36\n",
      "Done\n"
     ]
    }
   ],
   "source": [
    "# list for each shape output\n",
    "shapes <- list()\n",
    "# get shape for each file\n",
    "for (n in ns) {\n",
    "    fn <- paste(n,'.fa', sep='')\n",
    "    shapes[[length(shapes) + 1]] <- getShape(fn)\n",
    "}\n",
    "# add names\n",
    "names(shapes) <- ns"
   ]
  },
  {
   "cell_type": "markdown",
   "metadata": {},
   "source": [
    "#### Preview of the shape data\n",
    "For each of the TFs, matrix for the shape is created. For intra-base pair parameters, the dimensions are m x 36, whereas for inter-base pair parameters, the dimensions are m x 35. Here, m is the number of sequences (ie number of rows with sequences in the FASTA file)"
   ]
  },
  {
   "cell_type": "code",
   "execution_count": 8,
   "metadata": {},
   "outputs": [
    {
     "name": "stdout",
     "output_type": "stream",
     "text": [
      "MGW 7534 36"
     ]
    },
    {
     "data": {
      "text/html": [
       "<table>\n",
       "<tbody>\n",
       "\t<tr><td>NA  </td><td>NA  </td><td>5.02</td><td>5.33</td><td>5.50</td><td>5.27</td><td>5.50</td><td>5.40</td><td>4.36</td><td>4.03</td><td>... </td><td>5.78</td><td>5.79</td><td>5.67</td><td>5.27</td><td>5.08</td><td>5.45</td><td>4.52</td><td>4.14</td><td>NA  </td><td>NA  </td></tr>\n",
       "\t<tr><td>NA  </td><td>NA  </td><td>4.94</td><td>4.76</td><td>4.85</td><td>4.93</td><td>4.80</td><td>4.63</td><td>5.05</td><td>4.67</td><td>... </td><td>5.27</td><td>5.08</td><td>5.45</td><td>4.52</td><td>3.74</td><td>4.51</td><td>4.81</td><td>4.92</td><td>NA  </td><td>NA  </td></tr>\n",
       "\t<tr><td>NA  </td><td>NA  </td><td>5.29</td><td>5.37</td><td>4.96</td><td>4.77</td><td>4.95</td><td>5.19</td><td>5.19</td><td>4.95</td><td>... </td><td>4.95</td><td>4.61</td><td>4.67</td><td>5.05</td><td>4.63</td><td>4.92</td><td>5.40</td><td>5.19</td><td>NA  </td><td>NA  </td></tr>\n",
       "\t<tr><td>NA  </td><td>NA  </td><td>5.59</td><td>5.37</td><td>4.83</td><td>4.17</td><td>4.82</td><td>4.92</td><td>5.38</td><td>5.43</td><td>... </td><td>4.98</td><td>5.69</td><td>5.69</td><td>4.68</td><td>4.33</td><td>5.43</td><td>5.62</td><td>5.01</td><td>NA  </td><td>NA  </td></tr>\n",
       "\t<tr><td>NA  </td><td>NA  </td><td>5.10</td><td>5.20</td><td>5.46</td><td>5.40</td><td>4.77</td><td>4.94</td><td>5.52</td><td>5.41</td><td>... </td><td>4.96</td><td>4.77</td><td>4.82</td><td>4.62</td><td>4.42</td><td>4.05</td><td>4.52</td><td>5.21</td><td>NA  </td><td>NA  </td></tr>\n",
       "\t<tr><td>NA  </td><td>NA  </td><td>5.67</td><td>5.13</td><td>5.15</td><td>5.37</td><td>4.96</td><td>4.77</td><td>4.82</td><td>4.89</td><td>... </td><td>4.14</td><td>5.31</td><td>5.41</td><td>4.66</td><td>4.77</td><td>5.56</td><td>5.46</td><td>4.93</td><td>NA  </td><td>NA  </td></tr>\n",
       "</tbody>\n",
       "</table>\n"
      ],
      "text/latex": [
       "\\begin{tabular}{r|llllllllllllllllllllllllllllllllllll}\n",
       "\t NA   & NA   & 5.02 & 5.33 & 5.50 & 5.27 & 5.50 & 5.40 & 4.36 & 4.03 & ...  & 5.78 & 5.79 & 5.67 & 5.27 & 5.08 & 5.45 & 4.52 & 4.14 & NA   & NA  \\\\\n",
       "\t NA   & NA   & 4.94 & 4.76 & 4.85 & 4.93 & 4.80 & 4.63 & 5.05 & 4.67 & ...  & 5.27 & 5.08 & 5.45 & 4.52 & 3.74 & 4.51 & 4.81 & 4.92 & NA   & NA  \\\\\n",
       "\t NA   & NA   & 5.29 & 5.37 & 4.96 & 4.77 & 4.95 & 5.19 & 5.19 & 4.95 & ...  & 4.95 & 4.61 & 4.67 & 5.05 & 4.63 & 4.92 & 5.40 & 5.19 & NA   & NA  \\\\\n",
       "\t NA   & NA   & 5.59 & 5.37 & 4.83 & 4.17 & 4.82 & 4.92 & 5.38 & 5.43 & ...  & 4.98 & 5.69 & 5.69 & 4.68 & 4.33 & 5.43 & 5.62 & 5.01 & NA   & NA  \\\\\n",
       "\t NA   & NA   & 5.10 & 5.20 & 5.46 & 5.40 & 4.77 & 4.94 & 5.52 & 5.41 & ...  & 4.96 & 4.77 & 4.82 & 4.62 & 4.42 & 4.05 & 4.52 & 5.21 & NA   & NA  \\\\\n",
       "\t NA   & NA   & 5.67 & 5.13 & 5.15 & 5.37 & 4.96 & 4.77 & 4.82 & 4.89 & ...  & 4.14 & 5.31 & 5.41 & 4.66 & 4.77 & 5.56 & 5.46 & 4.93 & NA   & NA  \\\\\n",
       "\\end{tabular}\n"
      ],
      "text/markdown": [
       "\n",
       "| NA   | NA   | 5.02 | 5.33 | 5.50 | 5.27 | 5.50 | 5.40 | 4.36 | 4.03 | ...  | 5.78 | 5.79 | 5.67 | 5.27 | 5.08 | 5.45 | 4.52 | 4.14 | NA   | NA   |\n",
       "| NA   | NA   | 4.94 | 4.76 | 4.85 | 4.93 | 4.80 | 4.63 | 5.05 | 4.67 | ...  | 5.27 | 5.08 | 5.45 | 4.52 | 3.74 | 4.51 | 4.81 | 4.92 | NA   | NA   |\n",
       "| NA   | NA   | 5.29 | 5.37 | 4.96 | 4.77 | 4.95 | 5.19 | 5.19 | 4.95 | ...  | 4.95 | 4.61 | 4.67 | 5.05 | 4.63 | 4.92 | 5.40 | 5.19 | NA   | NA   |\n",
       "| NA   | NA   | 5.59 | 5.37 | 4.83 | 4.17 | 4.82 | 4.92 | 5.38 | 5.43 | ...  | 4.98 | 5.69 | 5.69 | 4.68 | 4.33 | 5.43 | 5.62 | 5.01 | NA   | NA   |\n",
       "| NA   | NA   | 5.10 | 5.20 | 5.46 | 5.40 | 4.77 | 4.94 | 5.52 | 5.41 | ...  | 4.96 | 4.77 | 4.82 | 4.62 | 4.42 | 4.05 | 4.52 | 5.21 | NA   | NA   |\n",
       "| NA   | NA   | 5.67 | 5.13 | 5.15 | 5.37 | 4.96 | 4.77 | 4.82 | 4.89 | ...  | 4.14 | 5.31 | 5.41 | 4.66 | 4.77 | 5.56 | 5.46 | 4.93 | NA   | NA   |\n",
       "\n"
      ],
      "text/plain": [
       "  [,1] [,2] [,3] [,4] [,5] [,6] [,7] [,8] [,9] [,10] [,11] [,12] [,13] [,14]\n",
       "1 NA   NA   5.02 5.33 5.50 5.27 5.50 5.40 4.36 4.03  ...   5.78  5.79  5.67 \n",
       "2 NA   NA   4.94 4.76 4.85 4.93 4.80 4.63 5.05 4.67  ...   5.27  5.08  5.45 \n",
       "3 NA   NA   5.29 5.37 4.96 4.77 4.95 5.19 5.19 4.95  ...   4.95  4.61  4.67 \n",
       "4 NA   NA   5.59 5.37 4.83 4.17 4.82 4.92 5.38 5.43  ...   4.98  5.69  5.69 \n",
       "5 NA   NA   5.10 5.20 5.46 5.40 4.77 4.94 5.52 5.41  ...   4.96  4.77  4.82 \n",
       "6 NA   NA   5.67 5.13 5.15 5.37 4.96 4.77 4.82 4.89  ...   4.14  5.31  5.41 \n",
       "  [,15] [,16] [,17] [,18] [,19] [,20] [,21]\n",
       "1 5.27  5.08  5.45  4.52  4.14  NA    NA   \n",
       "2 4.52  3.74  4.51  4.81  4.92  NA    NA   \n",
       "3 5.05  4.63  4.92  5.40  5.19  NA    NA   \n",
       "4 4.68  4.33  5.43  5.62  5.01  NA    NA   \n",
       "5 4.62  4.42  4.05  4.52  5.21  NA    NA   \n",
       "6 4.66  4.77  5.56  5.46  4.93  NA    NA   "
      ]
     },
     "metadata": {},
     "output_type": "display_data"
    },
    {
     "name": "stdout",
     "output_type": "stream",
     "text": [
      "ProT 7534 36"
     ]
    },
    {
     "data": {
      "text/html": [
       "<table>\n",
       "<tbody>\n",
       "\t<tr><td>NA    </td><td>NA    </td><td>-2.52 </td><td>-3.12 </td><td>-9.43 </td><td>-9.26 </td><td>-6.07 </td><td>-10.81</td><td>-11.93</td><td>-10.58</td><td>...   </td><td>-3.80 </td><td>-3.68 </td><td>-6.76 </td><td> -1.72</td><td>-3.36 </td><td>-9.90 </td><td>-10.21</td><td> -4.48</td><td>NA    </td><td>NA    </td></tr>\n",
       "\t<tr><td>NA    </td><td>NA    </td><td>-1.95 </td><td>-1.44 </td><td>-4.60 </td><td>-5.75 </td><td>-0.44 </td><td> -4.81</td><td> -6.07</td><td> -0.53</td><td>...   </td><td>-1.72 </td><td>-3.36 </td><td>-9.90 </td><td>-10.21</td><td>-4.07 </td><td>-7.34 </td><td> -5.39</td><td> -0.90</td><td>NA    </td><td>NA    </td></tr>\n",
       "\t<tr><td>NA    </td><td>NA    </td><td>-3.13 </td><td>-3.73 </td><td>-2.72 </td><td>-1.93 </td><td>-2.73 </td><td> -3.26</td><td> -3.26</td><td> -2.73</td><td>...   </td><td>-2.73 </td><td>-2.48 </td><td>-0.53 </td><td> -6.07</td><td>-4.81 </td><td>-0.90 </td><td> -5.54</td><td> -4.44</td><td>NA    </td><td>NA    </td></tr>\n",
       "\t<tr><td>NA    </td><td>NA    </td><td>-4.13 </td><td>-3.73 </td><td>-3.04 </td><td>-1.55 </td><td>-8.01 </td><td> -9.80</td><td> -6.08</td><td> -3.40</td><td>...   </td><td>-1.39 </td><td>-6.51 </td><td>-6.51 </td><td> -1.54</td><td>-5.43 </td><td>-7.21 </td><td>-10.31</td><td> -8.92</td><td>NA    </td><td>NA    </td></tr>\n",
       "\t<tr><td>NA    </td><td>NA    </td><td>-0.94 </td><td>-6.78 </td><td>-6.31 </td><td>-2.99 </td><td>-2.82 </td><td> -1.28</td><td> -5.92</td><td> -3.20</td><td>...   </td><td>-2.72 </td><td>-1.93 </td><td>-2.13 </td><td> -1.32</td><td>-0.14 </td><td>-9.21 </td><td>-12.85</td><td>-12.03</td><td>NA    </td><td>NA    </td></tr>\n",
       "\t<tr><td>NA    </td><td>NA    </td><td>-6.76 </td><td>-1.72 </td><td>-3.78 </td><td>-3.73 </td><td>-2.72 </td><td> -1.93</td><td> -2.13</td><td> -2.02</td><td>...   </td><td>-4.48 </td><td>-7.40 </td><td>-2.94 </td><td> -3.38</td><td>-5.89 </td><td>-7.11 </td><td> -4.03</td><td> -2.54</td><td>NA    </td><td>NA    </td></tr>\n",
       "</tbody>\n",
       "</table>\n"
      ],
      "text/latex": [
       "\\begin{tabular}{r|llllllllllllllllllllllllllllllllllll}\n",
       "\t NA     & NA     & -2.52  & -3.12  & -9.43  & -9.26  & -6.07  & -10.81 & -11.93 & -10.58 & ...    & -3.80  & -3.68  & -6.76  &  -1.72 & -3.36  & -9.90  & -10.21 &  -4.48 & NA     & NA    \\\\\n",
       "\t NA     & NA     & -1.95  & -1.44  & -4.60  & -5.75  & -0.44  &  -4.81 &  -6.07 &  -0.53 & ...    & -1.72  & -3.36  & -9.90  & -10.21 & -4.07  & -7.34  &  -5.39 &  -0.90 & NA     & NA    \\\\\n",
       "\t NA     & NA     & -3.13  & -3.73  & -2.72  & -1.93  & -2.73  &  -3.26 &  -3.26 &  -2.73 & ...    & -2.73  & -2.48  & -0.53  &  -6.07 & -4.81  & -0.90  &  -5.54 &  -4.44 & NA     & NA    \\\\\n",
       "\t NA     & NA     & -4.13  & -3.73  & -3.04  & -1.55  & -8.01  &  -9.80 &  -6.08 &  -3.40 & ...    & -1.39  & -6.51  & -6.51  &  -1.54 & -5.43  & -7.21  & -10.31 &  -8.92 & NA     & NA    \\\\\n",
       "\t NA     & NA     & -0.94  & -6.78  & -6.31  & -2.99  & -2.82  &  -1.28 &  -5.92 &  -3.20 & ...    & -2.72  & -1.93  & -2.13  &  -1.32 & -0.14  & -9.21  & -12.85 & -12.03 & NA     & NA    \\\\\n",
       "\t NA     & NA     & -6.76  & -1.72  & -3.78  & -3.73  & -2.72  &  -1.93 &  -2.13 &  -2.02 & ...    & -4.48  & -7.40  & -2.94  &  -3.38 & -5.89  & -7.11  &  -4.03 &  -2.54 & NA     & NA    \\\\\n",
       "\\end{tabular}\n"
      ],
      "text/markdown": [
       "\n",
       "| NA     | NA     | -2.52  | -3.12  | -9.43  | -9.26  | -6.07  | -10.81 | -11.93 | -10.58 | ...    | -3.80  | -3.68  | -6.76  |  -1.72 | -3.36  | -9.90  | -10.21 |  -4.48 | NA     | NA     |\n",
       "| NA     | NA     | -1.95  | -1.44  | -4.60  | -5.75  | -0.44  |  -4.81 |  -6.07 |  -0.53 | ...    | -1.72  | -3.36  | -9.90  | -10.21 | -4.07  | -7.34  |  -5.39 |  -0.90 | NA     | NA     |\n",
       "| NA     | NA     | -3.13  | -3.73  | -2.72  | -1.93  | -2.73  |  -3.26 |  -3.26 |  -2.73 | ...    | -2.73  | -2.48  | -0.53  |  -6.07 | -4.81  | -0.90  |  -5.54 |  -4.44 | NA     | NA     |\n",
       "| NA     | NA     | -4.13  | -3.73  | -3.04  | -1.55  | -8.01  |  -9.80 |  -6.08 |  -3.40 | ...    | -1.39  | -6.51  | -6.51  |  -1.54 | -5.43  | -7.21  | -10.31 |  -8.92 | NA     | NA     |\n",
       "| NA     | NA     | -0.94  | -6.78  | -6.31  | -2.99  | -2.82  |  -1.28 |  -5.92 |  -3.20 | ...    | -2.72  | -1.93  | -2.13  |  -1.32 | -0.14  | -9.21  | -12.85 | -12.03 | NA     | NA     |\n",
       "| NA     | NA     | -6.76  | -1.72  | -3.78  | -3.73  | -2.72  |  -1.93 |  -2.13 |  -2.02 | ...    | -4.48  | -7.40  | -2.94  |  -3.38 | -5.89  | -7.11  |  -4.03 |  -2.54 | NA     | NA     |\n",
       "\n"
      ],
      "text/plain": [
       "  [,1] [,2] [,3]  [,4]  [,5]  [,6]  [,7]  [,8]   [,9]   [,10]  [,11] [,12]\n",
       "1 NA   NA   -2.52 -3.12 -9.43 -9.26 -6.07 -10.81 -11.93 -10.58 ...   -3.80\n",
       "2 NA   NA   -1.95 -1.44 -4.60 -5.75 -0.44  -4.81  -6.07  -0.53 ...   -1.72\n",
       "3 NA   NA   -3.13 -3.73 -2.72 -1.93 -2.73  -3.26  -3.26  -2.73 ...   -2.73\n",
       "4 NA   NA   -4.13 -3.73 -3.04 -1.55 -8.01  -9.80  -6.08  -3.40 ...   -1.39\n",
       "5 NA   NA   -0.94 -6.78 -6.31 -2.99 -2.82  -1.28  -5.92  -3.20 ...   -2.72\n",
       "6 NA   NA   -6.76 -1.72 -3.78 -3.73 -2.72  -1.93  -2.13  -2.02 ...   -4.48\n",
       "  [,13] [,14] [,15]  [,16] [,17] [,18]  [,19]  [,20] [,21]\n",
       "1 -3.68 -6.76  -1.72 -3.36 -9.90 -10.21  -4.48 NA    NA   \n",
       "2 -3.36 -9.90 -10.21 -4.07 -7.34  -5.39  -0.90 NA    NA   \n",
       "3 -2.48 -0.53  -6.07 -4.81 -0.90  -5.54  -4.44 NA    NA   \n",
       "4 -6.51 -6.51  -1.54 -5.43 -7.21 -10.31  -8.92 NA    NA   \n",
       "5 -1.93 -2.13  -1.32 -0.14 -9.21 -12.85 -12.03 NA    NA   \n",
       "6 -7.40 -2.94  -3.38 -5.89 -7.11  -4.03  -2.54 NA    NA   "
      ]
     },
     "metadata": {},
     "output_type": "display_data"
    },
    {
     "name": "stdout",
     "output_type": "stream",
     "text": [
      "Roll 7534 35"
     ]
    },
    {
     "data": {
      "text/html": [
       "<table>\n",
       "<tbody>\n",
       "\t<tr><td>NA   </td><td>-1.78</td><td>-1.87</td><td> 4.47</td><td>-4.16</td><td> 5.82</td><td> 0.27</td><td>-2.32</td><td>-5.01</td><td>-3.83</td><td>...  </td><td> 4.28</td><td>-0.97</td><td> 3.49</td><td>-1.98</td><td>-2.27</td><td> 4.12</td><td>-3.49</td><td>-2.57</td><td>-4.51</td><td>NA   </td></tr>\n",
       "\t<tr><td>NA   </td><td>-1.77</td><td>-2.04</td><td>-1.11</td><td>-1.89</td><td>-3.06</td><td>-1.35</td><td>-2.10</td><td>-2.75</td><td>-3.46</td><td>...  </td><td>-1.98</td><td>-2.27</td><td> 4.12</td><td>-3.49</td><td>-3.18</td><td>-4.65</td><td>-2.33</td><td>-1.00</td><td>-2.79</td><td>NA   </td></tr>\n",
       "\t<tr><td>NA   </td><td>-2.02</td><td> 2.29</td><td>-1.31</td><td>-2.20</td><td>-2.04</td><td>-1.65</td><td> 1.93</td><td>-1.65</td><td>-1.75</td><td>...  </td><td>-1.73</td><td>-1.84</td><td>-3.01</td><td>-2.75</td><td>-2.10</td><td>-1.19</td><td>-2.83</td><td> 2.76</td><td>-0.64</td><td>NA   </td></tr>\n",
       "\t<tr><td>NA   </td><td>-0.88</td><td> 2.76</td><td>-1.38</td><td>-3.24</td><td>-3.25</td><td>-3.53</td><td>-0.35</td><td> 3.33</td><td>-1.21</td><td>...  </td><td>-1.19</td><td>-2.37</td><td> 4.92</td><td>-2.59</td><td>-2.29</td><td>-4.10</td><td> 5.46</td><td>-3.06</td><td>-2.56</td><td>NA   </td></tr>\n",
       "\t<tr><td>NA   </td><td>-2.29</td><td>-2.33</td><td>-1.19</td><td> 3.83</td><td>-1.91</td><td>-1.85</td><td>-2.71</td><td> 3.17</td><td>-1.88</td><td>...  </td><td>-1.31</td><td>-2.20</td><td>-2.16</td><td>-2.21</td><td>-3.04</td><td>-4.21</td><td>-4.82</td><td>-2.68</td><td> 6.09</td><td>NA   </td></tr>\n",
       "\t<tr><td>NA   </td><td> 3.55</td><td>-2.01</td><td>-1.79</td><td> 2.61</td><td>-1.31</td><td>-2.20</td><td>-2.16</td><td>-2.06</td><td>-2.12</td><td>...  </td><td>-2.83</td><td>-3.73</td><td> 2.59</td><td>-1.93</td><td>-1.25</td><td>-2.77</td><td> 2.77</td><td>-1.64</td><td>-2.42</td><td>NA   </td></tr>\n",
       "</tbody>\n",
       "</table>\n"
      ],
      "text/latex": [
       "\\begin{tabular}{r|lllllllllllllllllllllllllllllllllll}\n",
       "\t NA    & -1.78 & -1.87 &  4.47 & -4.16 &  5.82 &  0.27 & -2.32 & -5.01 & -3.83 & ...   &  4.28 & -0.97 &  3.49 & -1.98 & -2.27 &  4.12 & -3.49 & -2.57 & -4.51 & NA   \\\\\n",
       "\t NA    & -1.77 & -2.04 & -1.11 & -1.89 & -3.06 & -1.35 & -2.10 & -2.75 & -3.46 & ...   & -1.98 & -2.27 &  4.12 & -3.49 & -3.18 & -4.65 & -2.33 & -1.00 & -2.79 & NA   \\\\\n",
       "\t NA    & -2.02 &  2.29 & -1.31 & -2.20 & -2.04 & -1.65 &  1.93 & -1.65 & -1.75 & ...   & -1.73 & -1.84 & -3.01 & -2.75 & -2.10 & -1.19 & -2.83 &  2.76 & -0.64 & NA   \\\\\n",
       "\t NA    & -0.88 &  2.76 & -1.38 & -3.24 & -3.25 & -3.53 & -0.35 &  3.33 & -1.21 & ...   & -1.19 & -2.37 &  4.92 & -2.59 & -2.29 & -4.10 &  5.46 & -3.06 & -2.56 & NA   \\\\\n",
       "\t NA    & -2.29 & -2.33 & -1.19 &  3.83 & -1.91 & -1.85 & -2.71 &  3.17 & -1.88 & ...   & -1.31 & -2.20 & -2.16 & -2.21 & -3.04 & -4.21 & -4.82 & -2.68 &  6.09 & NA   \\\\\n",
       "\t NA    &  3.55 & -2.01 & -1.79 &  2.61 & -1.31 & -2.20 & -2.16 & -2.06 & -2.12 & ...   & -2.83 & -3.73 &  2.59 & -1.93 & -1.25 & -2.77 &  2.77 & -1.64 & -2.42 & NA   \\\\\n",
       "\\end{tabular}\n"
      ],
      "text/markdown": [
       "\n",
       "| NA    | -1.78 | -1.87 |  4.47 | -4.16 |  5.82 |  0.27 | -2.32 | -5.01 | -3.83 | ...   |  4.28 | -0.97 |  3.49 | -1.98 | -2.27 |  4.12 | -3.49 | -2.57 | -4.51 | NA    |\n",
       "| NA    | -1.77 | -2.04 | -1.11 | -1.89 | -3.06 | -1.35 | -2.10 | -2.75 | -3.46 | ...   | -1.98 | -2.27 |  4.12 | -3.49 | -3.18 | -4.65 | -2.33 | -1.00 | -2.79 | NA    |\n",
       "| NA    | -2.02 |  2.29 | -1.31 | -2.20 | -2.04 | -1.65 |  1.93 | -1.65 | -1.75 | ...   | -1.73 | -1.84 | -3.01 | -2.75 | -2.10 | -1.19 | -2.83 |  2.76 | -0.64 | NA    |\n",
       "| NA    | -0.88 |  2.76 | -1.38 | -3.24 | -3.25 | -3.53 | -0.35 |  3.33 | -1.21 | ...   | -1.19 | -2.37 |  4.92 | -2.59 | -2.29 | -4.10 |  5.46 | -3.06 | -2.56 | NA    |\n",
       "| NA    | -2.29 | -2.33 | -1.19 |  3.83 | -1.91 | -1.85 | -2.71 |  3.17 | -1.88 | ...   | -1.31 | -2.20 | -2.16 | -2.21 | -3.04 | -4.21 | -4.82 | -2.68 |  6.09 | NA    |\n",
       "| NA    |  3.55 | -2.01 | -1.79 |  2.61 | -1.31 | -2.20 | -2.16 | -2.06 | -2.12 | ...   | -2.83 | -3.73 |  2.59 | -1.93 | -1.25 | -2.77 |  2.77 | -1.64 | -2.42 | NA    |\n",
       "\n"
      ],
      "text/plain": [
       "  [,1] [,2]  [,3]  [,4]  [,5]  [,6]  [,7]  [,8]  [,9]  [,10] [,11] [,12] [,13]\n",
       "1 NA   -1.78 -1.87  4.47 -4.16  5.82  0.27 -2.32 -5.01 -3.83 ...    4.28 -0.97\n",
       "2 NA   -1.77 -2.04 -1.11 -1.89 -3.06 -1.35 -2.10 -2.75 -3.46 ...   -1.98 -2.27\n",
       "3 NA   -2.02  2.29 -1.31 -2.20 -2.04 -1.65  1.93 -1.65 -1.75 ...   -1.73 -1.84\n",
       "4 NA   -0.88  2.76 -1.38 -3.24 -3.25 -3.53 -0.35  3.33 -1.21 ...   -1.19 -2.37\n",
       "5 NA   -2.29 -2.33 -1.19  3.83 -1.91 -1.85 -2.71  3.17 -1.88 ...   -1.31 -2.20\n",
       "6 NA    3.55 -2.01 -1.79  2.61 -1.31 -2.20 -2.16 -2.06 -2.12 ...   -2.83 -3.73\n",
       "  [,14] [,15] [,16] [,17] [,18] [,19] [,20] [,21]\n",
       "1  3.49 -1.98 -2.27  4.12 -3.49 -2.57 -4.51 NA   \n",
       "2  4.12 -3.49 -3.18 -4.65 -2.33 -1.00 -2.79 NA   \n",
       "3 -3.01 -2.75 -2.10 -1.19 -2.83  2.76 -0.64 NA   \n",
       "4  4.92 -2.59 -2.29 -4.10  5.46 -3.06 -2.56 NA   \n",
       "5 -2.16 -2.21 -3.04 -4.21 -4.82 -2.68  6.09 NA   \n",
       "6  2.59 -1.93 -1.25 -2.77  2.77 -1.64 -2.42 NA   "
      ]
     },
     "metadata": {},
     "output_type": "display_data"
    },
    {
     "name": "stdout",
     "output_type": "stream",
     "text": [
      "HelT 7534 35"
     ]
    },
    {
     "data": {
      "text/html": [
       "<table>\n",
       "<tbody>\n",
       "\t<tr><td>NA   </td><td>33.82</td><td>36.28</td><td>34.74</td><td>31.64</td><td>35.02</td><td>35.14</td><td>35.91</td><td>36.33</td><td>32.65</td><td>...  </td><td>34.48</td><td>35.56</td><td>34.50</td><td>31.26</td><td>36.80</td><td>34.39</td><td>34.91</td><td>33.12</td><td>34.91</td><td>NA   </td></tr>\n",
       "\t<tr><td>NA   </td><td>33.22</td><td>33.58</td><td>33.57</td><td>35.58</td><td>31.48</td><td>34.15</td><td>35.99</td><td>31.38</td><td>37.36</td><td>...  </td><td>31.29</td><td>36.80</td><td>34.39</td><td>34.91</td><td>33.14</td><td>35.20</td><td>35.91</td><td>34.36</td><td>31.21</td><td>NA   </td></tr>\n",
       "\t<tr><td>NA   </td><td>36.31</td><td>32.39</td><td>33.33</td><td>36.73</td><td>33.67</td><td>33.34</td><td>32.53</td><td>33.34</td><td>33.80</td><td>...  </td><td>33.51</td><td>33.64</td><td>37.20</td><td>31.38</td><td>35.99</td><td>34.17</td><td>31.19</td><td>34.13</td><td>34.39</td><td>NA   </td></tr>\n",
       "\t<tr><td>NA   </td><td>35.63</td><td>32.80</td><td>33.36</td><td>37.48</td><td>32.28</td><td>35.03</td><td>35.42</td><td>32.57</td><td>33.11</td><td>...  </td><td>34.50</td><td>31.56</td><td>34.19</td><td>31.46</td><td>35.12</td><td>34.62</td><td>34.49</td><td>34.86</td><td>32.17</td><td>NA   </td></tr>\n",
       "\t<tr><td>NA   </td><td>36.61</td><td>31.44</td><td>35.22</td><td>32.59</td><td>36.26</td><td>34.17</td><td>31.16</td><td>33.84</td><td>36.24</td><td>...  </td><td>33.33</td><td>36.73</td><td>33.62</td><td>33.59</td><td>34.00</td><td>32.37</td><td>36.09</td><td>35.59</td><td>35.41</td><td>NA   </td></tr>\n",
       "\t<tr><td>NA   </td><td>34.49</td><td>31.24</td><td>36.70</td><td>32.40</td><td>33.33</td><td>36.73</td><td>33.62</td><td>33.53</td><td>33.36</td><td>...  </td><td>33.08</td><td>34.64</td><td>34.10</td><td>33.54</td><td>34.52</td><td>34.03</td><td>34.23</td><td>33.17</td><td>37.04</td><td>NA   </td></tr>\n",
       "</tbody>\n",
       "</table>\n"
      ],
      "text/latex": [
       "\\begin{tabular}{r|lllllllllllllllllllllllllllllllllll}\n",
       "\t NA    & 33.82 & 36.28 & 34.74 & 31.64 & 35.02 & 35.14 & 35.91 & 36.33 & 32.65 & ...   & 34.48 & 35.56 & 34.50 & 31.26 & 36.80 & 34.39 & 34.91 & 33.12 & 34.91 & NA   \\\\\n",
       "\t NA    & 33.22 & 33.58 & 33.57 & 35.58 & 31.48 & 34.15 & 35.99 & 31.38 & 37.36 & ...   & 31.29 & 36.80 & 34.39 & 34.91 & 33.14 & 35.20 & 35.91 & 34.36 & 31.21 & NA   \\\\\n",
       "\t NA    & 36.31 & 32.39 & 33.33 & 36.73 & 33.67 & 33.34 & 32.53 & 33.34 & 33.80 & ...   & 33.51 & 33.64 & 37.20 & 31.38 & 35.99 & 34.17 & 31.19 & 34.13 & 34.39 & NA   \\\\\n",
       "\t NA    & 35.63 & 32.80 & 33.36 & 37.48 & 32.28 & 35.03 & 35.42 & 32.57 & 33.11 & ...   & 34.50 & 31.56 & 34.19 & 31.46 & 35.12 & 34.62 & 34.49 & 34.86 & 32.17 & NA   \\\\\n",
       "\t NA    & 36.61 & 31.44 & 35.22 & 32.59 & 36.26 & 34.17 & 31.16 & 33.84 & 36.24 & ...   & 33.33 & 36.73 & 33.62 & 33.59 & 34.00 & 32.37 & 36.09 & 35.59 & 35.41 & NA   \\\\\n",
       "\t NA    & 34.49 & 31.24 & 36.70 & 32.40 & 33.33 & 36.73 & 33.62 & 33.53 & 33.36 & ...   & 33.08 & 34.64 & 34.10 & 33.54 & 34.52 & 34.03 & 34.23 & 33.17 & 37.04 & NA   \\\\\n",
       "\\end{tabular}\n"
      ],
      "text/markdown": [
       "\n",
       "| NA    | 33.82 | 36.28 | 34.74 | 31.64 | 35.02 | 35.14 | 35.91 | 36.33 | 32.65 | ...   | 34.48 | 35.56 | 34.50 | 31.26 | 36.80 | 34.39 | 34.91 | 33.12 | 34.91 | NA    |\n",
       "| NA    | 33.22 | 33.58 | 33.57 | 35.58 | 31.48 | 34.15 | 35.99 | 31.38 | 37.36 | ...   | 31.29 | 36.80 | 34.39 | 34.91 | 33.14 | 35.20 | 35.91 | 34.36 | 31.21 | NA    |\n",
       "| NA    | 36.31 | 32.39 | 33.33 | 36.73 | 33.67 | 33.34 | 32.53 | 33.34 | 33.80 | ...   | 33.51 | 33.64 | 37.20 | 31.38 | 35.99 | 34.17 | 31.19 | 34.13 | 34.39 | NA    |\n",
       "| NA    | 35.63 | 32.80 | 33.36 | 37.48 | 32.28 | 35.03 | 35.42 | 32.57 | 33.11 | ...   | 34.50 | 31.56 | 34.19 | 31.46 | 35.12 | 34.62 | 34.49 | 34.86 | 32.17 | NA    |\n",
       "| NA    | 36.61 | 31.44 | 35.22 | 32.59 | 36.26 | 34.17 | 31.16 | 33.84 | 36.24 | ...   | 33.33 | 36.73 | 33.62 | 33.59 | 34.00 | 32.37 | 36.09 | 35.59 | 35.41 | NA    |\n",
       "| NA    | 34.49 | 31.24 | 36.70 | 32.40 | 33.33 | 36.73 | 33.62 | 33.53 | 33.36 | ...   | 33.08 | 34.64 | 34.10 | 33.54 | 34.52 | 34.03 | 34.23 | 33.17 | 37.04 | NA    |\n",
       "\n"
      ],
      "text/plain": [
       "  [,1] [,2]  [,3]  [,4]  [,5]  [,6]  [,7]  [,8]  [,9]  [,10] [,11] [,12] [,13]\n",
       "1 NA   33.82 36.28 34.74 31.64 35.02 35.14 35.91 36.33 32.65 ...   34.48 35.56\n",
       "2 NA   33.22 33.58 33.57 35.58 31.48 34.15 35.99 31.38 37.36 ...   31.29 36.80\n",
       "3 NA   36.31 32.39 33.33 36.73 33.67 33.34 32.53 33.34 33.80 ...   33.51 33.64\n",
       "4 NA   35.63 32.80 33.36 37.48 32.28 35.03 35.42 32.57 33.11 ...   34.50 31.56\n",
       "5 NA   36.61 31.44 35.22 32.59 36.26 34.17 31.16 33.84 36.24 ...   33.33 36.73\n",
       "6 NA   34.49 31.24 36.70 32.40 33.33 36.73 33.62 33.53 33.36 ...   33.08 34.64\n",
       "  [,14] [,15] [,16] [,17] [,18] [,19] [,20] [,21]\n",
       "1 34.50 31.26 36.80 34.39 34.91 33.12 34.91 NA   \n",
       "2 34.39 34.91 33.14 35.20 35.91 34.36 31.21 NA   \n",
       "3 37.20 31.38 35.99 34.17 31.19 34.13 34.39 NA   \n",
       "4 34.19 31.46 35.12 34.62 34.49 34.86 32.17 NA   \n",
       "5 33.62 33.59 34.00 32.37 36.09 35.59 35.41 NA   \n",
       "6 34.10 33.54 34.52 34.03 34.23 33.17 37.04 NA   "
      ]
     },
     "metadata": {},
     "output_type": "display_data"
    }
   ],
   "source": [
    "cat('MGW', dim(shapes[[1]]$MGW))\n",
    "head(shapes[[1]]$MGW)\n",
    "cat('ProT', dim(shapes[[1]]$ProT))\n",
    "head(shapes[[1]]$ProT)\n",
    "cat('Roll', dim(shapes[[1]]$Roll))\n",
    "head(shapes[[1]]$Roll)\n",
    "cat('HelT', dim(shapes[[1]]$HelT))\n",
    "head(shapes[[1]]$HelT)"
   ]
  },
  {
   "cell_type": "markdown",
   "metadata": {},
   "source": [
    "## 3) Preprocess the data"
   ]
  },
  {
   "cell_type": "markdown",
   "metadata": {},
   "source": [
    "In order to train the models, dataset containing training examples were created. The 2 separate datsets were created, one with only the sequence as input and the other with sequence + shape features."
   ]
  },
  {
   "cell_type": "markdown",
   "metadata": {},
   "source": [
    "#### Encoding sequence\n",
    "To create the dataset, the sequences need to be converted into numeric values. This was achieved by using one-hot encoding where 4-bit binary vector represents each letter as follows:\n",
    "\n",
    "A: [0,0,0,1] <br>\n",
    "C: [0,0,1,0] <br>\n",
    "G: [0,1,0,0] <br>\n",
    "T: [1,0,0,0] <br>\n",
    "\n",
    "Using this, the sequence ACCTG would be [0 0 0 1 0 0 1 0 0 0 1 0 1 0 0 0 0 1 0 0]\n",
    "\n",
    "Below is the function that was used to encode the sequence:"
   ]
  },
  {
   "cell_type": "code",
   "execution_count": 9,
   "metadata": {},
   "outputs": [],
   "source": [
    "# encode nucleotide\n",
    "# gets nucleotide and returns the corresponding one-hot encoding\n",
    "encodeNucleotide <- function(nucleotide) {\n",
    "    dict <- list(A=c(0,0,0,1), C=c(0,0,1,0), G=c(0,1,0,0), T=c(1,0,0,0))\n",
    "    return(dict[nucleotide])\n",
    "}\n",
    "\n",
    "# encode sequence\n",
    "# gets sequence and returns vector of one-hot encoded sequence\n",
    "encodeSequence <- function(sequence) {\n",
    "    nucleotides <- strsplit(sequence, split='', fixed=T)\n",
    "    result <- unlist(lapply(nucleotides, encodeNucleotide))\n",
    "    names(result) <- c()\n",
    "    return(result)\n",
    "}\n",
    "\n",
    "# encode FASTA\n",
    "# gets FASTA file and returns matrix of one-hot encoded sequences\n",
    "encodeFASTA <- function(filename) {\n",
    "    # read FASTA\n",
    "    fa <- read.table(filename, comment.char='>')\n",
    "    # encode sequence\n",
    "    result <- apply(fa, 1, encodeSequence)\n",
    "    # transpose\n",
    "    result <- t(result)\n",
    "    return(result)\n",
    "}"
   ]
  },
  {
   "cell_type": "markdown",
   "metadata": {},
   "source": [
    "#### Creating feature matrix\n",
    "Feature matrix for each TF was created as inputs to the model. For the sequence only model, the features were the one-hot encoded sequences. For the sequence + shape model, the one-hot encoded sequences were combined with shape features."
   ]
  },
  {
   "cell_type": "code",
   "execution_count": 10,
   "metadata": {},
   "outputs": [],
   "source": [
    "# create list of feature matrices for each file\n",
    "features.seq <- list()\n",
    "features.shape <- list()\n",
    "\n",
    "# loop over files\n",
    "for (n in ns) {\n",
    "    # add 1-mer feature vector\n",
    "    features.seq[[n]] <- encodeFASTA(paste(n, '.fa', sep=''))\n",
    "    # combine intra bp parameters\n",
    "    features.shape[[n]] <- cbind(features.seq[[n]], shapes[[n]]$MGW, shapes[[n]]$ProT)\n",
    "    # combine inter bp parameters\n",
    "    features.shape[[n]] <- cbind(features.shape[[n]], shapes[[n]]$Roll, shapes[[n]]$HelT)\n",
    "}"
   ]
  },
  {
   "cell_type": "markdown",
   "metadata": {},
   "source": [
    "#### Remove NA values\n",
    "Since the model cannot compute NA values, columns with NA values were dropped (ie columns in inter-base parameters)."
   ]
  },
  {
   "cell_type": "code",
   "execution_count": 11,
   "metadata": {},
   "outputs": [],
   "source": [
    "# remove columns with NA\n",
    "for (n in ns) {\n",
    "    features.seq[[n]] <- features.seq[[n]][, colSums(is.na(features.seq[[n]])) == 0]\n",
    "    features.shape[[n]] <- features.shape[[n]][, colSums(is.na(features.shape[[n]])) == 0]\n",
    "}"
   ]
  },
  {
   "cell_type": "markdown",
   "metadata": {},
   "source": [
    "#### Add ground truth\n",
    "To learn the weights so that the model can minimize the error, ground truth was added to the dataset. Ground truth values were obtained from High-Throughput protein-DNA binding data in the form of `*.s` files. These files contain the sequences in the `*.fa` files and their corresponding binding affinity."
   ]
  },
  {
   "cell_type": "code",
   "execution_count": 12,
   "metadata": {},
   "outputs": [
    {
     "data": {
      "text/html": [
       "<table>\n",
       "<thead><tr><th scope=col>V1</th><th scope=col>V2</th></tr></thead>\n",
       "<tbody>\n",
       "\t<tr><td>GGGCATGAAAGCCACCTCGTGGTTTTGCAGCAAGTG</td><td> 8.763428                           </td></tr>\n",
       "\t<tr><td>CGGGGAGGAGCCACCCACGCGCCACAGCAAGTCCTG</td><td> 7.903412                           </td></tr>\n",
       "\t<tr><td>GGCGGCCCGGGCATCCACGTGGGTCGGGCTCCTGGT</td><td>10.208874                           </td></tr>\n",
       "\t<tr><td>TGCGGCTTCGGCTTCCACGCGGCATCCTAGGTAAGC</td><td> 8.273974                           </td></tr>\n",
       "\t<tr><td>TGCTCGCCTGCCTGCCATGTGCAGCGGCCCCTTTGT</td><td> 8.325185                           </td></tr>\n",
       "\t<tr><td>GCAGCGGCCCCATCCCACGTGGTTAAGTGGGTGGCC</td><td>10.389595                           </td></tr>\n",
       "</tbody>\n",
       "</table>\n"
      ],
      "text/latex": [
       "\\begin{tabular}{r|ll}\n",
       " V1 & V2\\\\\n",
       "\\hline\n",
       "\t GGGCATGAAAGCCACCTCGTGGTTTTGCAGCAAGTG &  8.763428                           \\\\\n",
       "\t CGGGGAGGAGCCACCCACGCGCCACAGCAAGTCCTG &  7.903412                           \\\\\n",
       "\t GGCGGCCCGGGCATCCACGTGGGTCGGGCTCCTGGT & 10.208874                           \\\\\n",
       "\t TGCGGCTTCGGCTTCCACGCGGCATCCTAGGTAAGC &  8.273974                           \\\\\n",
       "\t TGCTCGCCTGCCTGCCATGTGCAGCGGCCCCTTTGT &  8.325185                           \\\\\n",
       "\t GCAGCGGCCCCATCCCACGTGGTTAAGTGGGTGGCC & 10.389595                           \\\\\n",
       "\\end{tabular}\n"
      ],
      "text/markdown": [
       "\n",
       "| V1 | V2 |\n",
       "|---|---|\n",
       "| GGGCATGAAAGCCACCTCGTGGTTTTGCAGCAAGTG |  8.763428                            |\n",
       "| CGGGGAGGAGCCACCCACGCGCCACAGCAAGTCCTG |  7.903412                            |\n",
       "| GGCGGCCCGGGCATCCACGTGGGTCGGGCTCCTGGT | 10.208874                            |\n",
       "| TGCGGCTTCGGCTTCCACGCGGCATCCTAGGTAAGC |  8.273974                            |\n",
       "| TGCTCGCCTGCCTGCCATGTGCAGCGGCCCCTTTGT |  8.325185                            |\n",
       "| GCAGCGGCCCCATCCCACGTGGTTAAGTGGGTGGCC | 10.389595                            |\n",
       "\n"
      ],
      "text/plain": [
       "  V1                                   V2       \n",
       "1 GGGCATGAAAGCCACCTCGTGGTTTTGCAGCAAGTG  8.763428\n",
       "2 CGGGGAGGAGCCACCCACGCGCCACAGCAAGTCCTG  7.903412\n",
       "3 GGCGGCCCGGGCATCCACGTGGGTCGGGCTCCTGGT 10.208874\n",
       "4 TGCGGCTTCGGCTTCCACGCGGCATCCTAGGTAAGC  8.273974\n",
       "5 TGCTCGCCTGCCTGCCATGTGCAGCGGCCCCTTTGT  8.325185\n",
       "6 GCAGCGGCCCCATCCCACGTGGTTAAGTGGGTGGCC 10.389595"
      ]
     },
     "metadata": {},
     "output_type": "display_data"
    }
   ],
   "source": [
    "head(read.table('Mad.s'))"
   ]
  },
  {
   "cell_type": "code",
   "execution_count": 13,
   "metadata": {},
   "outputs": [],
   "source": [
    "# add ground truth to features\n",
    "data.seq <- list()\n",
    "data.shape <- list()\n",
    "for (n in ns) {\n",
    "    gt <- read.table(paste(n, '.s', sep=''))[,2]\n",
    "    data.seq[[n]] <- cbind(features.seq[[n]], gt)\n",
    "    data.shape[[n]] <- cbind(features.shape[[n]], gt)\n",
    "}"
   ]
  },
  {
   "cell_type": "markdown",
   "metadata": {},
   "source": [
    "## 4) Train model\n",
    "The caret package was used to train various models. First, the same model used in previous study e-SVR `svmLinear` was trained on sequence data as well as sequence + shape data as control. Then, the other model `glmnet` was trained on sequence + shape data to compare with the control model."
   ]
  },
  {
   "cell_type": "markdown",
   "metadata": {},
   "source": [
    "#### Set seed"
   ]
  },
  {
   "cell_type": "code",
   "execution_count": 14,
   "metadata": {},
   "outputs": [],
   "source": [
    "set.seed(100)"
   ]
  },
  {
   "cell_type": "markdown",
   "metadata": {},
   "source": [
    "#### Split the data\n",
    "Split the data for training & testing for both sequence data and shape data"
   ]
  },
  {
   "cell_type": "code",
   "execution_count": 15,
   "metadata": {},
   "outputs": [],
   "source": [
    "# split data\n",
    "train.data.shape <- list()\n",
    "test.data.shape <- list()\n",
    "\n",
    "for (n in ns) {\n",
    "    trainIndex <- createDataPartition(data.shape[[n]][,ncol(data.shape[[n]])], p=.8, list = FALSE, times=1)\n",
    "    train.data.shape[[n]] <- data.shape[[n]][trainIndex,]\n",
    "    test.data.shape[[n]] <- data.shape[[n]][-trainIndex,]\n",
    "}"
   ]
  },
  {
   "cell_type": "code",
   "execution_count": 16,
   "metadata": {},
   "outputs": [],
   "source": [
    "# split data\n",
    "train.data.seq <- list()\n",
    "test.data.seq <- list()\n",
    "for (n in ns) {\n",
    "    trainIndex <- createDataPartition(data.seq[[n]][,ncol(data.seq[[n]])], p=.8, list = FALSE, times=1)\n",
    "    train.data.seq[[n]] <- data.seq[[n]][trainIndex,]\n",
    "    test.data.seq[[n]] <- data.seq[[n]][-trainIndex,]\n",
    "}"
   ]
  },
  {
   "cell_type": "markdown",
   "metadata": {},
   "source": [
    "#### Set cross-validation\n",
    "Use 10-fold cross-validation in training"
   ]
  },
  {
   "cell_type": "code",
   "execution_count": 17,
   "metadata": {},
   "outputs": [],
   "source": [
    "# cross validation\n",
    "fitControl <- trainControl(method=\"cv\", number=10, savePredictions=TRUE)"
   ]
  },
  {
   "cell_type": "markdown",
   "metadata": {},
   "source": [
    "#### Train Lasso regression model (L1-normalization)"
   ]
  },
  {
   "cell_type": "markdown",
   "metadata": {},
   "source": [
    "*SHAPE*"
   ]
  },
  {
   "cell_type": "code",
   "execution_count": 18,
   "metadata": {},
   "outputs": [],
   "source": [
    "model.l1.shape <- list()\n",
    "for (n in ns) {\n",
    "    model.l1.shape[[n]] <- train(gt~., data=data.frame(train.data.shape[[n]]), trControl=fitControl, method=\"glmnet\",\n",
    "                                tuneGrid=data.frame(alpha = c(2^c(-15:0)), lambda=0))\n",
    "}"
   ]
  },
  {
   "cell_type": "code",
   "execution_count": 19,
   "metadata": {},
   "outputs": [],
   "source": [
    "for (n in ns) {\n",
    "    saveRDS(model.l1.shape[[n]], paste('l1_shape_', n, '.rds', sep=''))\n",
    "}"
   ]
  },
  {
   "cell_type": "code",
   "execution_count": 17,
   "metadata": {},
   "outputs": [],
   "source": [
    "model.l1.shape <- list()\n",
    "for (n in ns) {\n",
    "    model.l1.shape[[n]] <- readRDS(paste('l1_shape_', n, '.rds', sep=''))\n",
    "}"
   ]
  },
  {
   "cell_type": "markdown",
   "metadata": {},
   "source": [
    "*SEQUENCE*"
   ]
  },
  {
   "cell_type": "code",
   "execution_count": 20,
   "metadata": {},
   "outputs": [],
   "source": [
    "model.l1.seq <- list()\n",
    "for (n in ns) {\n",
    "    model.l1.seq[[n]] <- train(gt~., data=data.frame(train.data.seq[[n]]), trControl=fitControl, method=\"glmnet\",\n",
    "                                tuneGrid=data.frame(alpha = c(2^c(-15:0)), lambda=0))\n",
    "}"
   ]
  },
  {
   "cell_type": "code",
   "execution_count": 21,
   "metadata": {},
   "outputs": [],
   "source": [
    "for (n in ns) {\n",
    "    saveRDS(model.l1.seq[[n]], paste('l1_seq_', n, '.rds', sep=''))\n",
    "}"
   ]
  },
  {
   "cell_type": "code",
   "execution_count": 18,
   "metadata": {},
   "outputs": [],
   "source": [
    "model.l1.seq <- list()\n",
    "for (n in ns) {\n",
    "    model.l1.seq[[n]] <- readRDS(paste('l1_seq_', n, '.rds', sep=''))\n",
    "}"
   ]
  },
  {
   "cell_type": "markdown",
   "metadata": {},
   "source": [
    "#### Train Ridge regression model (L2-normalization)\n",
    "*SHAPE*"
   ]
  },
  {
   "cell_type": "code",
   "execution_count": 22,
   "metadata": {},
   "outputs": [
    {
     "name": "stderr",
     "output_type": "stream",
     "text": [
      "Warning message in nominalTrainWorkflow(x = x, y = y, wts = weights, info = trainInfo, :\n",
      "\"There were missing values in resampled performance measures.\"Warning message in nominalTrainWorkflow(x = x, y = y, wts = weights, info = trainInfo, :\n",
      "\"There were missing values in resampled performance measures.\"Warning message in nominalTrainWorkflow(x = x, y = y, wts = weights, info = trainInfo, :\n",
      "\"There were missing values in resampled performance measures.\""
     ]
    }
   ],
   "source": [
    "model.l2.shape <- list()\n",
    "for (n in ns) {\n",
    "    model.l2.shape[[n]] <- train(gt~., data=data.frame(train.data.shape[[n]]), trControl=fitControl, method=\"glmnet\",\n",
    "                   tuneGrid=data.frame(alpha = 0, lambda=c(2^c(-15:15))))\n",
    "}"
   ]
  },
  {
   "cell_type": "code",
   "execution_count": 23,
   "metadata": {},
   "outputs": [],
   "source": [
    "for (n in ns) {\n",
    "    saveRDS(model.l2.shape[[n]], paste('l2_shape_', n, '.rds', sep=''))\n",
    "}"
   ]
  },
  {
   "cell_type": "code",
   "execution_count": 19,
   "metadata": {},
   "outputs": [],
   "source": [
    "model.l2.shape <- list()\n",
    "for (n in ns) {\n",
    "    model.l2.shape[[n]] <- readRDS(paste('l2_shape_', n, '.rds', sep=''))\n",
    "}"
   ]
  },
  {
   "cell_type": "markdown",
   "metadata": {},
   "source": [
    "*SEQUENCE*"
   ]
  },
  {
   "cell_type": "code",
   "execution_count": 24,
   "metadata": {},
   "outputs": [
    {
     "name": "stderr",
     "output_type": "stream",
     "text": [
      "Warning message in nominalTrainWorkflow(x = x, y = y, wts = weights, info = trainInfo, :\n",
      "\"There were missing values in resampled performance measures.\"Warning message in nominalTrainWorkflow(x = x, y = y, wts = weights, info = trainInfo, :\n",
      "\"There were missing values in resampled performance measures.\"Warning message in nominalTrainWorkflow(x = x, y = y, wts = weights, info = trainInfo, :\n",
      "\"There were missing values in resampled performance measures.\""
     ]
    }
   ],
   "source": [
    "model.l2.seq <- list()\n",
    "for (n in ns) {\n",
    "    model.l2.seq[[n]] <- train(gt~., data=data.frame(train.data.seq[[n]]), trControl=fitControl, method=\"glmnet\",\n",
    "                   tuneGrid=data.frame(alpha = 0, lambda=c(2^c(-15:15))))\n",
    "}"
   ]
  },
  {
   "cell_type": "code",
   "execution_count": 25,
   "metadata": {},
   "outputs": [],
   "source": [
    "for (n in ns) {\n",
    "    saveRDS(model.l2.seq[[n]], paste('l2_seq_', n, '.rds', sep=''))\n",
    "}"
   ]
  },
  {
   "cell_type": "code",
   "execution_count": 20,
   "metadata": {},
   "outputs": [],
   "source": [
    "model.l2.seq <- list()\n",
    "for (n in ns) {\n",
    "    model.l2.seq[[n]] <- readRDS(paste('l2_seq_', n, '.rds', sep=''))\n",
    "}"
   ]
  },
  {
   "cell_type": "markdown",
   "metadata": {},
   "source": [
    "## 5) Results & Analysis"
   ]
  },
  {
   "cell_type": "code",
   "execution_count": 26,
   "metadata": {},
   "outputs": [
    {
     "name": "stdout",
     "output_type": "stream",
     "text": [
      "[1] \"Mad\"\n",
      "glmnet \n",
      "\n",
      "6029 samples\n",
      " 274 predictor\n",
      "\n",
      "No pre-processing\n",
      "Resampling: Cross-Validated (10 fold) \n",
      "Summary of sample sizes: 5426, 5425, 5426, 5425, 5427, 5427, ... \n",
      "Resampling results across tuning parameters:\n",
      "\n",
      "  alpha         RMSE       Rsquared   MAE      \n",
      "  3.051758e-05  0.3023956  0.8630964  0.2470891\n",
      "  6.103516e-05  0.3024041  0.8630885  0.2470949\n",
      "  1.220703e-04  0.3024412  0.8630538  0.2471225\n",
      "  2.441406e-04  0.3024301  0.8630736  0.2471049\n",
      "  4.882812e-04  0.3024666  0.8630537  0.2471123\n",
      "  9.765625e-04  0.3026568  0.8628752  0.2472834\n",
      "  1.953125e-03  0.2653467  0.8945058  0.2150875\n",
      "  3.906250e-03  0.2290208  0.9211907  0.1834201\n",
      "  7.812500e-03  0.2028127  0.9376016  0.1605457\n",
      "  1.562500e-02  0.1885126  0.9455057  0.1480623\n",
      "  3.125000e-02  0.1817585  0.9490030  0.1422470\n",
      "  6.250000e-02  0.1779598  0.9509932  0.1390717\n",
      "  1.250000e-01  0.1756105  0.9522567  0.1369009\n",
      "  2.500000e-01  0.1730768  0.9536027  0.1345672\n",
      "  5.000000e-01  0.1717666  0.9543011  0.1333699\n",
      "  1.000000e+00  0.1703139  0.9550688  0.1321969\n",
      "\n",
      "Tuning parameter 'lambda' was held constant at a value of 0\n",
      "RMSE was used to select the optimal model using the smallest value.\n",
      "The final values used for the model were alpha = 1 and lambda = 0.\n",
      "glmnet \n",
      "\n",
      "6029 samples\n",
      " 144 predictor\n",
      "\n",
      "No pre-processing\n",
      "Resampling: Cross-Validated (10 fold) \n",
      "Summary of sample sizes: 5425, 5426, 5428, 5427, 5427, 5426, ... \n",
      "Resampling results across tuning parameters:\n",
      "\n",
      "  alpha         RMSE       Rsquared   MAE      \n",
      "  3.051758e-05  0.3816510  0.7743713  0.3011291\n",
      "  6.103516e-05  0.3816520  0.7743709  0.3011300\n",
      "  1.220703e-04  0.3816528  0.7743720  0.3011351\n",
      "  2.441406e-04  0.3816521  0.7743736  0.3011360\n",
      "  4.882812e-04  0.3816514  0.7743768  0.3011391\n",
      "  9.765625e-04  0.3816577  0.7743814  0.3011671\n",
      "  1.953125e-03  0.3810093  0.7744895  0.2985918\n",
      "  3.906250e-03  0.3808549  0.7745224  0.2973196\n",
      "  7.812500e-03  0.3808315  0.7745321  0.2968459\n",
      "  1.562500e-02  0.3808216  0.7745440  0.2968260\n",
      "  3.125000e-02  0.3808028  0.7745667  0.2968138\n",
      "  6.250000e-02  0.3807756  0.7745994  0.2967579\n",
      "  1.250000e-01  0.3807496  0.7746299  0.2966263\n",
      "  2.500000e-01  0.3807282  0.7746513  0.2965062\n",
      "  5.000000e-01  0.3807192  0.7746676  0.2964008\n",
      "  1.000000e+00  0.3807154  0.7746705  0.2963084\n",
      "\n",
      "Tuning parameter 'lambda' was held constant at a value of 0\n",
      "RMSE was used to select the optimal model using the smallest value.\n",
      "The final values used for the model were alpha = 1 and lambda = 0.\n",
      "glmnet \n",
      "\n",
      "6029 samples\n",
      " 274 predictor\n",
      "\n",
      "No pre-processing\n",
      "Resampling: Cross-Validated (10 fold) \n",
      "Summary of sample sizes: 5427, 5425, 5426, 5427, 5426, 5426, ... \n",
      "Resampling results across tuning parameters:\n",
      "\n",
      "  lambda        RMSE       Rsquared   MAE      \n",
      "  3.051758e-05  0.3033207  0.8620507  0.2477532\n",
      "  6.103516e-05  0.3033207  0.8620507  0.2477532\n",
      "  1.220703e-04  0.3033207  0.8620507  0.2477532\n",
      "  2.441406e-04  0.3033207  0.8620507  0.2477532\n",
      "  4.882812e-04  0.3033207  0.8620507  0.2477532\n",
      "  9.765625e-04  0.3033207  0.8620507  0.2477532\n",
      "  1.953125e-03  0.3033207  0.8620507  0.2477532\n",
      "  3.906250e-03  0.3033207  0.8620507  0.2477532\n",
      "  7.812500e-03  0.3033207  0.8620507  0.2477532\n",
      "  1.562500e-02  0.3033207  0.8620507  0.2477532\n",
      "  3.125000e-02  0.3033207  0.8620507  0.2477532\n",
      "  6.250000e-02  0.3176470  0.8488685  0.2601328\n",
      "  1.250000e-01  0.3521634  0.8159667  0.2897698\n",
      "  2.500000e-01  0.3849640  0.7860343  0.3180013\n",
      "  5.000000e-01  0.4219920  0.7585383  0.3485765\n",
      "  1.000000e+00  0.4722785  0.7284850  0.3862560\n",
      "  2.000000e+00  0.5389013  0.6878131  0.4328848\n",
      "  4.000000e+00  0.6118084  0.6323848  0.4888483\n",
      "  8.000000e+00  0.6770447  0.5688812  0.5446746\n",
      "  1.600000e+01  0.7263383  0.5129366  0.5870148\n",
      "  3.200000e+01  0.7594845  0.4729415  0.6151989\n",
      "  6.400000e+01  0.7795026  0.4488306  0.6322360\n",
      "  1.280000e+02  0.7907855  0.4353954  0.6418723\n",
      "  2.560000e+02  0.7967928  0.4283335  0.6470278\n",
      "  5.120000e+02  0.8030951        NaN  0.6524449\n",
      "  1.024000e+03  0.8030951        NaN  0.6524449\n",
      "  2.048000e+03  0.8030951        NaN  0.6524449\n",
      "  4.096000e+03  0.8030951        NaN  0.6524449\n",
      "  8.192000e+03  0.8030951        NaN  0.6524449\n",
      "  1.638400e+04  0.8030951        NaN  0.6524449\n",
      "  3.276800e+04  0.8030951        NaN  0.6524449\n",
      "\n",
      "Tuning parameter 'alpha' was held constant at a value of 0\n",
      "RMSE was used to select the optimal model using the smallest value.\n",
      "The final values used for the model were alpha = 0 and lambda = 0.03125.\n",
      "glmnet \n",
      "\n",
      "6029 samples\n",
      " 144 predictor\n",
      "\n",
      "No pre-processing\n",
      "Resampling: Cross-Validated (10 fold) \n",
      "Summary of sample sizes: 5427, 5426, 5427, 5427, 5425, 5428, ... \n",
      "Resampling results across tuning parameters:\n",
      "\n",
      "  lambda        RMSE       Rsquared   MAE      \n",
      "  3.051758e-05  0.3819096  0.7736038  0.3015350\n",
      "  6.103516e-05  0.3819096  0.7736038  0.3015350\n",
      "  1.220703e-04  0.3819096  0.7736038  0.3015350\n",
      "  2.441406e-04  0.3819096  0.7736038  0.3015350\n",
      "  4.882812e-04  0.3819096  0.7736038  0.3015350\n",
      "  9.765625e-04  0.3819096  0.7736038  0.3015350\n",
      "  1.953125e-03  0.3819096  0.7736038  0.3015350\n",
      "  3.906250e-03  0.3819096  0.7736038  0.3015350\n",
      "  7.812500e-03  0.3819096  0.7736038  0.3015350\n",
      "  1.562500e-02  0.3819096  0.7736038  0.3015350\n",
      "  3.125000e-02  0.3821180  0.7735680  0.3021461\n",
      "  6.250000e-02  0.3852408  0.7730656  0.3084225\n",
      "  1.250000e-01  0.3955924  0.7714085  0.3217552\n",
      "  2.500000e-01  0.4232313  0.7664449  0.3471763\n",
      "  5.000000e-01  0.4781303  0.7538844  0.3896258\n",
      "  1.000000e+00  0.5553387  0.7291784  0.4473670\n",
      "  2.000000e+00  0.6350764  0.6924930  0.5117828\n",
      "  4.000000e+00  0.6994626  0.6518795  0.5663359\n",
      "  8.000000e+00  0.7433027  0.6169480  0.6030612\n",
      "  1.600000e+01  0.7697756  0.5924517  0.6250921\n",
      "  3.200000e+01  0.7845237  0.5776299  0.6374087\n",
      "  6.400000e+01  0.7923748  0.5693564  0.6439652\n",
      "  1.280000e+02  0.7964118  0.5650221  0.6473395\n",
      "  2.560000e+02  0.7984969  0.5627730  0.6490854\n",
      "  5.120000e+02  0.8005500        NaN  0.6508052\n",
      "  1.024000e+03  0.8005500        NaN  0.6508052\n",
      "  2.048000e+03  0.8005500        NaN  0.6508052\n",
      "  4.096000e+03  0.8005500        NaN  0.6508052\n",
      "  8.192000e+03  0.8005500        NaN  0.6508052\n",
      "  1.638400e+04  0.8005500        NaN  0.6508052\n",
      "  3.276800e+04  0.8005500        NaN  0.6508052\n",
      "\n",
      "Tuning parameter 'alpha' was held constant at a value of 0\n",
      "RMSE was used to select the optimal model using the smallest value.\n",
      "The final values used for the model were alpha = 0 and lambda = 0.015625.\n",
      "[1] \"Max\"\n",
      "glmnet \n",
      "\n",
      "6856 samples\n",
      " 274 predictor\n",
      "\n",
      "No pre-processing\n",
      "Resampling: Cross-Validated (10 fold) \n",
      "Summary of sample sizes: 6171, 6172, 6169, 6170, 6170, 6170, ... \n",
      "Resampling results across tuning parameters:\n",
      "\n",
      "  alpha         RMSE        Rsquared   MAE       \n",
      "  3.051758e-05  0.08018043  0.8621929  0.06440064\n",
      "  6.103516e-05  0.08018431  0.8621806  0.06440412\n",
      "  1.220703e-04  0.08018721  0.8621695  0.06440621\n",
      "  2.441406e-04  0.08019425  0.8621528  0.06441261\n",
      "  4.882812e-04  0.08015277  0.8623119  0.06437330\n",
      "  9.765625e-04  0.08019172  0.8621822  0.06440815\n",
      "  1.953125e-03  0.07363237  0.8832738  0.05875438\n",
      "  3.906250e-03  0.06740667  0.9018410  0.05339496\n",
      "  7.812500e-03  0.06269548  0.9147323  0.04931891\n",
      "  1.562500e-02  0.05976984  0.9222057  0.04679310\n",
      "  3.125000e-02  0.05813202  0.9262281  0.04537362\n",
      "  6.250000e-02  0.05721161  0.9284640  0.04455771\n",
      "  1.250000e-01  0.05667507  0.9297667  0.04405043\n",
      "  2.500000e-01  0.05632388  0.9306259  0.04374466\n",
      "  5.000000e-01  0.05610320  0.9311639  0.04354458\n",
      "  1.000000e+00  0.05597266  0.9314788  0.04343791\n",
      "\n",
      "Tuning parameter 'lambda' was held constant at a value of 0\n",
      "RMSE was used to select the optimal model using the smallest value.\n",
      "The final values used for the model were alpha = 1 and lambda = 0.\n",
      "glmnet \n",
      "\n",
      "6856 samples\n",
      " 144 predictor\n",
      "\n",
      "No pre-processing\n",
      "Resampling: Cross-Validated (10 fold) \n",
      "Summary of sample sizes: 6171, 6172, 6170, 6171, 6170, 6171, ... \n",
      "Resampling results across tuning parameters:\n",
      "\n",
      "  alpha         RMSE        Rsquared   MAE       \n",
      "  3.051758e-05  0.09959079  0.7857358  0.07870994\n",
      "  6.103516e-05  0.09959072  0.7857364  0.07870996\n",
      "  1.220703e-04  0.09959063  0.7857374  0.07870993\n",
      "  2.441406e-04  0.09959042  0.7857395  0.07871001\n",
      "  4.882812e-04  0.09959125  0.7857425  0.07871217\n",
      "  9.765625e-04  0.09959049  0.7857503  0.07871243\n",
      "  1.953125e-03  0.09940871  0.7858881  0.07824621\n",
      "  3.906250e-03  0.09936152  0.7859367  0.07803048\n",
      "  7.812500e-03  0.09935247  0.7859533  0.07795809\n",
      "  1.562500e-02  0.09935087  0.7859677  0.07795517\n",
      "  3.125000e-02  0.09934294  0.7859945  0.07794373\n",
      "  6.250000e-02  0.09933276  0.7860389  0.07792844\n",
      "  1.250000e-01  0.09932235  0.7860827  0.07789952\n",
      "  2.500000e-01  0.09931441  0.7861171  0.07787320\n",
      "  5.000000e-01  0.09931006  0.7861383  0.07785329\n",
      "  1.000000e+00  0.09930796  0.7861440  0.07783435\n",
      "\n",
      "Tuning parameter 'lambda' was held constant at a value of 0\n",
      "RMSE was used to select the optimal model using the smallest value.\n",
      "The final values used for the model were alpha = 1 and lambda = 0.\n",
      "glmnet \n",
      "\n",
      "6856 samples\n",
      " 274 predictor\n",
      "\n",
      "No pre-processing\n",
      "Resampling: Cross-Validated (10 fold) \n",
      "Summary of sample sizes: 6170, 6170, 6170, 6170, 6171, 6169, ... \n",
      "Resampling results across tuning parameters:\n",
      "\n",
      "  lambda        RMSE        Rsquared   MAE       \n",
      "  3.051758e-05  0.08026808  0.8621800  0.06444660\n",
      "  6.103516e-05  0.08026808  0.8621800  0.06444660\n",
      "  1.220703e-04  0.08026808  0.8621800  0.06444660\n",
      "  2.441406e-04  0.08026808  0.8621800  0.06444660\n",
      "  4.882812e-04  0.08026808  0.8621800  0.06444660\n",
      "  9.765625e-04  0.08026808  0.8621800  0.06444660\n",
      "  1.953125e-03  0.08026808  0.8621800  0.06444660\n",
      "  3.906250e-03  0.08026808  0.8621800  0.06444660\n",
      "  7.812500e-03  0.08026808  0.8621800  0.06444660\n",
      "  1.562500e-02  0.08334297  0.8519996  0.06713182\n",
      "  3.125000e-02  0.09027396  0.8290646  0.07324990\n",
      "  6.250000e-02  0.09805683  0.8050625  0.08001905\n",
      "  1.250000e-01  0.10806502  0.7786555  0.08827211\n",
      "  2.500000e-01  0.12210548  0.7451899  0.09929094\n",
      "  5.000000e-01  0.14039803  0.6965255  0.11345678\n",
      "  1.000000e+00  0.16013485  0.6290368  0.12903887\n",
      "  2.000000e+00  0.17765903  0.5538571  0.14336757\n",
      "  4.000000e+00  0.19123847  0.4886737  0.15445359\n",
      "  8.000000e+00  0.20060762  0.4438033  0.16208256\n",
      "  1.600000e+01  0.20651778  0.4167930  0.16693106\n",
      "  3.200000e+01  0.20991887  0.4020833  0.16974612\n",
      "  6.400000e+01  0.21177012  0.3943154  0.17128835\n",
      "  1.280000e+02  0.21373432        NaN  0.17293210\n",
      "  2.560000e+02  0.21373432        NaN  0.17293210\n",
      "  5.120000e+02  0.21373432        NaN  0.17293210\n",
      "  1.024000e+03  0.21373432        NaN  0.17293210\n",
      "  2.048000e+03  0.21373432        NaN  0.17293210\n",
      "  4.096000e+03  0.21373432        NaN  0.17293210\n",
      "  8.192000e+03  0.21373432        NaN  0.17293210\n",
      "  1.638400e+04  0.21373432        NaN  0.17293210\n",
      "  3.276800e+04  0.21373432        NaN  0.17293210\n",
      "\n",
      "Tuning parameter 'alpha' was held constant at a value of 0\n",
      "RMSE was used to select the optimal model using the smallest value.\n",
      "The final values used for the model were alpha = 0 and lambda = 0.0078125.\n",
      "glmnet \n",
      "\n",
      "6856 samples\n",
      " 144 predictor\n",
      "\n",
      "No pre-processing\n",
      "Resampling: Cross-Validated (10 fold) \n",
      "Summary of sample sizes: 6171, 6170, 6171, 6171, 6170, 6169, ... \n",
      "Resampling results across tuning parameters:\n",
      "\n",
      "  lambda        RMSE        Rsquared   MAE       \n",
      "  3.051758e-05  0.09947483  0.7856010  0.07859864\n",
      "  6.103516e-05  0.09947483  0.7856010  0.07859864\n",
      "  1.220703e-04  0.09947483  0.7856010  0.07859864\n",
      "  2.441406e-04  0.09947483  0.7856010  0.07859864\n",
      "  4.882812e-04  0.09947483  0.7856010  0.07859864\n",
      "  9.765625e-04  0.09947483  0.7856010  0.07859864\n",
      "  1.953125e-03  0.09947483  0.7856010  0.07859864\n",
      "  3.906250e-03  0.09947483  0.7856010  0.07859864\n",
      "  7.812500e-03  0.09948249  0.7855962  0.07861344\n",
      "  1.562500e-02  0.10019086  0.7851733  0.07976361\n",
      "  3.125000e-02  0.10258291  0.7837015  0.08252494\n",
      "  6.250000e-02  0.10918540  0.7790619  0.08868158\n",
      "  1.250000e-01  0.12293494  0.7665210  0.10016857\n",
      "  2.500000e-01  0.14327011  0.7395211  0.11615522\n",
      "  5.000000e-01  0.16520070  0.6948583  0.13347881\n",
      "  1.000000e+00  0.18355627  0.6401120  0.14832253\n",
      "  2.000000e+00  0.19647979  0.5895791  0.15880107\n",
      "  4.000000e+00  0.20453579  0.5528733  0.16533169\n",
      "  8.000000e+00  0.20914409  0.5303314  0.16907747\n",
      "  1.600000e+01  0.21164155  0.5176908  0.17110605\n",
      "  3.200000e+01  0.21293995  0.5110550  0.17216257\n",
      "  6.400000e+01  0.21360676  0.5076071  0.17270540\n",
      "  1.280000e+02  0.21428148        NaN  0.17325435\n",
      "  2.560000e+02  0.21428148        NaN  0.17325435\n",
      "  5.120000e+02  0.21428148        NaN  0.17325435\n",
      "  1.024000e+03  0.21428148        NaN  0.17325435\n",
      "  2.048000e+03  0.21428148        NaN  0.17325435\n",
      "  4.096000e+03  0.21428148        NaN  0.17325435\n",
      "  8.192000e+03  0.21428148        NaN  0.17325435\n",
      "  1.638400e+04  0.21428148        NaN  0.17325435\n",
      "  3.276800e+04  0.21428148        NaN  0.17325435\n",
      "\n",
      "Tuning parameter 'alpha' was held constant at a value of 0\n",
      "RMSE was used to select the optimal model using the smallest value.\n",
      "The final values used for the model were alpha = 0 and lambda = 0.00390625.\n",
      "[1] \"Myc\"\n",
      "glmnet \n",
      "\n",
      "5542 samples\n",
      " 274 predictor\n",
      "\n",
      "No pre-processing\n",
      "Resampling: Cross-Validated (10 fold) \n",
      "Summary of sample sizes: 4987, 4989, 4989, 4987, 4988, 4988, ... \n",
      "Resampling results across tuning parameters:\n",
      "\n",
      "  alpha         RMSE       Rsquared   MAE      \n",
      "  3.051758e-05  0.3042737  0.8557858  0.2439857\n",
      "  6.103516e-05  0.3042784  0.8557822  0.2439903\n",
      "  1.220703e-04  0.3042919  0.8557706  0.2440018\n",
      "  2.441406e-04  0.3043049  0.8557610  0.2440137\n",
      "  4.882812e-04  0.3043105  0.8557660  0.2440112\n",
      "  9.765625e-04  0.3043246  0.8557524  0.2440439\n",
      "  1.953125e-03  0.2817788  0.8759208  0.2233077\n",
      "  3.906250e-03  0.2611847  0.8930904  0.2038586\n",
      "  7.812500e-03  0.2461000  0.9047681  0.1896355\n",
      "  1.562500e-02  0.2368556  0.9115282  0.1810040\n",
      "  3.125000e-02  0.2317879  0.9151186  0.1761553\n",
      "  6.250000e-02  0.2293202  0.9168435  0.1736844\n",
      "  1.250000e-01  0.2280624  0.9177174  0.1724222\n",
      "  2.500000e-01  0.2274025  0.9181763  0.1717147\n",
      "  5.000000e-01  0.2269551  0.9184926  0.1711818\n",
      "  1.000000e+00  0.2266719  0.9186867  0.1708802\n",
      "\n",
      "Tuning parameter 'lambda' was held constant at a value of 0\n",
      "RMSE was used to select the optimal model using the smallest value.\n",
      "The final values used for the model were alpha = 1 and lambda = 0.\n",
      "glmnet \n",
      "\n",
      "5542 samples\n",
      " 144 predictor\n",
      "\n",
      "No pre-processing\n",
      "Resampling: Cross-Validated (10 fold) \n",
      "Summary of sample sizes: 4988, 4987, 4989, 4989, 4987, 4987, ... \n",
      "Resampling results across tuning parameters:\n",
      "\n",
      "  alpha         RMSE       Rsquared   MAE      \n",
      "  3.051758e-05  0.3750247  0.7763125  0.3021094\n",
      "  6.103516e-05  0.3750241  0.7763135  0.3021088\n",
      "  1.220703e-04  0.3750244  0.7763138  0.3021105\n",
      "  2.441406e-04  0.3750239  0.7763153  0.3021107\n",
      "  4.882812e-04  0.3750259  0.7763175  0.3021168\n",
      "  9.765625e-04  0.3750272  0.7763224  0.3021258\n",
      "  1.953125e-03  0.3745089  0.7764490  0.3009223\n",
      "  3.906250e-03  0.3743856  0.7764944  0.3003829\n",
      "  7.812500e-03  0.3743664  0.7765103  0.3002212\n",
      "  1.562500e-02  0.3743547  0.7765246  0.3002075\n",
      "  3.125000e-02  0.3743340  0.7765486  0.3001922\n",
      "  6.250000e-02  0.3743020  0.7765899  0.3001334\n",
      "  1.250000e-01  0.3742688  0.7766281  0.3000700\n",
      "  2.500000e-01  0.3742446  0.7766589  0.3000069\n",
      "  5.000000e-01  0.3742213  0.7766870  0.2999621\n",
      "  1.000000e+00  0.3742190  0.7766939  0.2999225\n",
      "\n",
      "Tuning parameter 'lambda' was held constant at a value of 0\n",
      "RMSE was used to select the optimal model using the smallest value.\n",
      "The final values used for the model were alpha = 1 and lambda = 0.\n",
      "glmnet \n",
      "\n",
      "5542 samples\n",
      " 274 predictor\n",
      "\n",
      "No pre-processing\n",
      "Resampling: Cross-Validated (10 fold) \n",
      "Summary of sample sizes: 4987, 4987, 4990, 4988, 4988, 4988, ... \n",
      "Resampling results across tuning parameters:\n",
      "\n",
      "  lambda        RMSE       Rsquared   MAE      \n",
      "  3.051758e-05  0.3038446  0.8559233  0.2435376\n",
      "  6.103516e-05  0.3038446  0.8559233  0.2435376\n",
      "  1.220703e-04  0.3038446  0.8559233  0.2435376\n",
      "  2.441406e-04  0.3038446  0.8559233  0.2435376\n",
      "  4.882812e-04  0.3038446  0.8559233  0.2435376\n",
      "  9.765625e-04  0.3038446  0.8559233  0.2435376\n",
      "  1.953125e-03  0.3038446  0.8559233  0.2435376\n",
      "  3.906250e-03  0.3038446  0.8559233  0.2435376\n",
      "  7.812500e-03  0.3038446  0.8559233  0.2435376\n",
      "  1.562500e-02  0.3038446  0.8559233  0.2435376\n",
      "  3.125000e-02  0.3038446  0.8559233  0.2435376\n",
      "  6.250000e-02  0.3234026  0.8377991  0.2613669\n",
      "  1.250000e-01  0.3471619  0.8163497  0.2828091\n",
      "  2.500000e-01  0.3744393  0.7950631  0.3065537\n",
      "  5.000000e-01  0.4122640  0.7715741  0.3373020\n",
      "  1.000000e+00  0.4680433  0.7398847  0.3803460\n",
      "  2.000000e+00  0.5395596  0.6930395  0.4365238\n",
      "  4.000000e+00  0.6137329  0.6299642  0.4988481\n",
      "  8.000000e+00  0.6768569  0.5619889  0.5505421\n",
      "  1.600000e+01  0.7233691  0.5040281  0.5869163\n",
      "  3.200000e+01  0.7539014  0.4636634  0.6102812\n",
      "  6.400000e+01  0.7721505  0.4393664  0.6242202\n",
      "  1.280000e+02  0.7823375  0.4258851  0.6320148\n",
      "  2.560000e+02  0.7877295  0.4188204  0.6361415\n",
      "  5.120000e+02  0.7933743        NaN  0.6404570\n",
      "  1.024000e+03  0.7933743        NaN  0.6404570\n",
      "  2.048000e+03  0.7933743        NaN  0.6404570\n",
      "  4.096000e+03  0.7933743        NaN  0.6404570\n",
      "  8.192000e+03  0.7933743        NaN  0.6404570\n",
      "  1.638400e+04  0.7933743        NaN  0.6404570\n",
      "  3.276800e+04  0.7933743        NaN  0.6404570\n",
      "\n",
      "Tuning parameter 'alpha' was held constant at a value of 0\n",
      "RMSE was used to select the optimal model using the smallest value.\n",
      "The final values used for the model were alpha = 0 and lambda = 0.03125.\n",
      "glmnet \n",
      "\n",
      "5542 samples\n",
      " 144 predictor\n",
      "\n",
      "No pre-processing\n",
      "Resampling: Cross-Validated (10 fold) \n",
      "Summary of sample sizes: 4988, 4987, 4989, 4986, 4987, 4987, ... \n",
      "Resampling results across tuning parameters:\n",
      "\n",
      "  lambda        RMSE       Rsquared   MAE      \n",
      "  3.051758e-05  0.3739445  0.7782072  0.3012268\n",
      "  6.103516e-05  0.3739445  0.7782072  0.3012268\n",
      "  1.220703e-04  0.3739445  0.7782072  0.3012268\n",
      "  2.441406e-04  0.3739445  0.7782072  0.3012268\n",
      "  4.882812e-04  0.3739445  0.7782072  0.3012268\n",
      "  9.765625e-04  0.3739445  0.7782072  0.3012268\n",
      "  1.953125e-03  0.3739445  0.7782072  0.3012268\n",
      "  3.906250e-03  0.3739445  0.7782072  0.3012268\n",
      "  7.812500e-03  0.3739445  0.7782072  0.3012268\n",
      "  1.562500e-02  0.3739445  0.7782072  0.3012268\n",
      "  3.125000e-02  0.3743226  0.7781308  0.3018945\n",
      "  6.250000e-02  0.3774205  0.7775485  0.3059172\n",
      "  1.250000e-01  0.3876163  0.7756008  0.3157938\n",
      "  2.500000e-01  0.4146438  0.7698160  0.3382495\n",
      "  5.000000e-01  0.4681111  0.7556549  0.3800667\n",
      "  1.000000e+00  0.5436573  0.7293204  0.4400477\n",
      "  2.000000e+00  0.6227178  0.6931576  0.5061960\n",
      "  4.000000e+00  0.6876124  0.6563934  0.5591598\n",
      "  8.000000e+00  0.7325835  0.6264963  0.5945205\n",
      "  1.600000e+01  0.7598923  0.6063193  0.6155858\n",
      "  3.200000e+01  0.7752202  0.5941925  0.6272635\n",
      "  6.400000e+01  0.7833639  0.5875012  0.6334350\n",
      "  1.280000e+02  0.7875694  0.5839758  0.6366056\n",
      "  2.560000e+02  0.7918721        NaN  0.6398406\n",
      "  5.120000e+02  0.7918721        NaN  0.6398406\n",
      "  1.024000e+03  0.7918721        NaN  0.6398406\n",
      "  2.048000e+03  0.7918721        NaN  0.6398406\n",
      "  4.096000e+03  0.7918721        NaN  0.6398406\n",
      "  8.192000e+03  0.7918721        NaN  0.6398406\n",
      "  1.638400e+04  0.7918721        NaN  0.6398406\n",
      "  3.276800e+04  0.7918721        NaN  0.6398406\n",
      "\n",
      "Tuning parameter 'alpha' was held constant at a value of 0\n",
      "RMSE was used to select the optimal model using the smallest value.\n",
      "The final values used for the model were alpha = 0 and lambda = 0.015625.\n"
     ]
    }
   ],
   "source": [
    "for (n in ns) {\n",
    "    print(n)\n",
    "    print(model.l1.shape[[n]])\n",
    "    print(model.l1.seq[[n]])\n",
    "    print(model.l2.shape[[n]])\n",
    "    print(model.l2.seq[[n]])\n",
    "}"
   ]
  },
  {
   "cell_type": "code",
   "execution_count": 27,
   "metadata": {},
   "outputs": [
    {
     "name": "stdout",
     "output_type": "stream",
     "text": [
      "List of 23\n",
      " $ method      : chr \"glmnet\"\n",
      " $ modelInfo   :List of 15\n",
      "  ..$ label     : chr \"glmnet\"\n",
      "  ..$ library   : chr [1:2] \"glmnet\" \"Matrix\"\n",
      "  ..$ type      : chr [1:2] \"Regression\" \"Classification\"\n",
      "  ..$ parameters:'data.frame':\t2 obs. of  3 variables:\n",
      "  .. ..$ parameter: chr [1:2] \"alpha\" \"lambda\"\n",
      "  .. ..$ class    : chr [1:2] \"numeric\" \"numeric\"\n",
      "  .. ..$ label    : chr [1:2] \"Mixing Percentage\" \"Regularization Parameter\"\n",
      "  ..$ grid      :function (x, y, len = NULL, search = \"grid\")  \n",
      "  .. ..- attr(*, \"srcref\")= 'srcref' int [1:8] 7 26 27 19 26 19 7 27\n",
      "  .. .. ..- attr(*, \"srcfile\")=Classes 'srcfilecopy', 'srcfile' <environment: 0x000000003e936938> \n",
      "  ..$ loop      :function (grid)  \n",
      "  .. ..- attr(*, \"srcref\")= 'srcref' int [1:8] 28 26 39 19 26 19 28 39\n",
      "  .. .. ..- attr(*, \"srcfile\")=Classes 'srcfilecopy', 'srcfile' <environment: 0x000000003e936938> \n",
      "  ..$ fit       :function (x, y, wts, param, lev, last, classProbs, ...)  \n",
      "  .. ..- attr(*, \"srcref\")= 'srcref' int [1:8] 40 25 66 19 25 19 40 66\n",
      "  .. .. ..- attr(*, \"srcfile\")=Classes 'srcfilecopy', 'srcfile' <environment: 0x000000003e936938> \n",
      "  ..$ predict   :function (modelFit, newdata, submodels = NULL)  \n",
      "  .. ..- attr(*, \"srcref\")= 'srcref' int [1:8] 67 29 88 19 29 19 67 88\n",
      "  .. .. ..- attr(*, \"srcfile\")=Classes 'srcfilecopy', 'srcfile' <environment: 0x000000003e936938> \n",
      "  ..$ prob      :function (modelFit, newdata, submodels = NULL)  \n",
      "  .. ..- attr(*, \"srcref\")= 'srcref' int [1:8] 89 26 122 19 26 19 89 122\n",
      "  .. .. ..- attr(*, \"srcfile\")=Classes 'srcfilecopy', 'srcfile' <environment: 0x000000003e936938> \n",
      "  ..$ predictors:function (x, lambda = NULL, ...)  \n",
      "  .. ..- attr(*, \"srcref\")= 'srcref' int [1:8] 123 32 139 19 32 19 123 139\n",
      "  .. .. ..- attr(*, \"srcfile\")=Classes 'srcfilecopy', 'srcfile' <environment: 0x000000003e936938> \n",
      "  ..$ varImp    :function (object, lambda = NULL, ...)  \n",
      "  .. ..- attr(*, \"srcref\")= 'srcref' int [1:8] 140 28 154 19 28 19 140 154\n",
      "  .. .. ..- attr(*, \"srcfile\")=Classes 'srcfilecopy', 'srcfile' <environment: 0x000000003e936938> \n",
      "  ..$ levels    :function (x)  \n",
      "  .. ..- attr(*, \"srcref\")= 'srcref' int [1:8] 155 28 155 93 28 93 155 155\n",
      "  .. .. ..- attr(*, \"srcfile\")=Classes 'srcfilecopy', 'srcfile' <environment: 0x000000003e936938> \n",
      "  ..$ tags      : chr [1:6] \"Generalized Linear Model\" \"Implicit Feature Selection\" \"L1 Regularization\" \"L2 Regularization\" ...\n",
      "  ..$ sort      :function (x)  \n",
      "  .. ..- attr(*, \"srcref\")= 'srcref' int [1:8] 159 26 159 66 26 66 159 159\n",
      "  .. .. ..- attr(*, \"srcfile\")=Classes 'srcfilecopy', 'srcfile' <environment: 0x000000003e936938> \n",
      "  ..$ trim      :function (x)  \n",
      "  .. ..- attr(*, \"srcref\")= 'srcref' int [1:8] 160 26 165 19 26 19 160 165\n",
      "  .. .. ..- attr(*, \"srcfile\")=Classes 'srcfilecopy', 'srcfile' <environment: 0x000000003e936938> \n",
      " $ modelType   : chr \"Regression\"\n",
      " $ results     :'data.frame':\t16 obs. of  8 variables:\n",
      "  ..$ alpha     : num [1:16] 3.05e-05 6.10e-05 1.22e-04 2.44e-04 4.88e-04 ...\n",
      "  ..$ lambda    : num [1:16] 0 0 0 0 0 0 0 0 0 0 ...\n",
      "  ..$ RMSE      : num [1:16] 0.302 0.302 0.302 0.302 0.302 ...\n",
      "  ..$ Rsquared  : num [1:16] 0.863 0.863 0.863 0.863 0.863 ...\n",
      "  ..$ MAE       : num [1:16] 0.247 0.247 0.247 0.247 0.247 ...\n",
      "  ..$ RMSESD    : num [1:16] 0.00857 0.00857 0.00857 0.00855 0.00855 ...\n",
      "  ..$ RsquaredSD: num [1:16] 0.00984 0.00984 0.00984 0.00982 0.00983 ...\n",
      "  ..$ MAESD     : num [1:16] 0.00627 0.00627 0.00627 0.00624 0.00624 ...\n",
      " $ pred        :'data.frame':\t96464 obs. of  6 variables:\n",
      "  ..$ pred    : num [1:96464] 8.89 8.33 10.02 10.22 7.71 ...\n",
      "  ..$ obs     : num [1:96464] 8.72 8.3 10.19 10.44 8.02 ...\n",
      "  ..$ rowIndex: int [1:96464] 15 25 26 28 36 40 42 48 49 59 ...\n",
      "  ..$ alpha   : num [1:96464] 3.05e-05 3.05e-05 3.05e-05 3.05e-05 3.05e-05 ...\n",
      "  ..$ lambda  : num [1:96464] 0 0 0 0 0 0 0 0 0 0 ...\n",
      "  ..$ Resample: chr [1:96464] \"Fold01\" \"Fold01\" \"Fold01\" \"Fold01\" ...\n",
      " $ bestTune    :'data.frame':\t1 obs. of  2 variables:\n",
      "  ..$ alpha : num 1\n",
      "  ..$ lambda: num 0\n",
      " $ call        : language train.formula(form = gt ~ ., data = data.frame(train.data.shape[[n]]),      trControl = fitControl, method = \"glm| __truncated__ ...\n",
      " $ dots        : list()\n",
      " $ metric      : chr \"RMSE\"\n",
      " $ control     :List of 28\n",
      "  ..$ method           : chr \"cv\"\n",
      "  ..$ number           : num 10\n",
      "  ..$ repeats          : logi NA\n",
      "  ..$ search           : chr \"grid\"\n",
      "  ..$ p                : num 0.75\n",
      "  ..$ initialWindow    : NULL\n",
      "  ..$ horizon          : num 1\n",
      "  ..$ fixedWindow      : logi TRUE\n",
      "  ..$ skip             : num 0\n",
      "  ..$ verboseIter      : logi FALSE\n",
      "  ..$ returnData       : logi TRUE\n",
      "  ..$ returnResamp     : chr \"final\"\n",
      "  ..$ savePredictions  : chr \"all\"\n",
      "  ..$ classProbs       : logi FALSE\n",
      "  ..$ summaryFunction  :function (data, lev = NULL, model = NULL)  \n",
      "  ..$ selectionFunction: chr \"best\"\n",
      "  ..$ preProcOptions   :List of 6\n",
      "  .. ..$ thresh   : num 0.95\n",
      "  .. ..$ ICAcomp  : num 3\n",
      "  .. ..$ k        : num 5\n",
      "  .. ..$ freqCut  : num 19\n",
      "  .. ..$ uniqueCut: num 10\n",
      "  .. ..$ cutoff   : num 0.9\n",
      "  ..$ sampling         : NULL\n",
      "  ..$ index            :List of 10\n",
      "  .. ..$ Fold01: int [1:5426] 1 2 3 4 5 6 7 8 9 10 ...\n",
      "  .. ..$ Fold02: int [1:5425] 1 2 3 4 5 6 7 8 9 10 ...\n",
      "  .. ..$ Fold03: int [1:5426] 1 2 3 4 5 6 7 8 9 10 ...\n",
      "  .. ..$ Fold04: int [1:5425] 2 3 5 6 7 8 10 12 13 14 ...\n",
      "  .. ..$ Fold05: int [1:5427] 1 2 3 4 5 7 8 9 10 11 ...\n",
      "  .. ..$ Fold06: int [1:5427] 1 2 3 4 6 7 8 9 10 11 ...\n",
      "  .. ..$ Fold07: int [1:5426] 1 2 3 4 5 6 7 9 10 11 ...\n",
      "  .. ..$ Fold08: int [1:5425] 1 2 4 5 6 7 8 9 10 11 ...\n",
      "  .. ..$ Fold09: int [1:5426] 1 2 3 4 5 6 7 8 9 10 ...\n",
      "  .. ..$ Fold10: int [1:5428] 1 3 4 5 6 8 9 11 12 13 ...\n",
      "  ..$ indexOut         :List of 10\n",
      "  .. ..$ Resample01: int [1:603] 15 25 26 28 36 40 42 48 49 59 ...\n",
      "  .. ..$ Resample02: int [1:604] 19 23 37 52 57 92 107 121 124 142 ...\n",
      "  .. ..$ Resample03: int [1:603] 12 31 47 55 68 70 74 80 83 86 ...\n",
      "  .. ..$ Resample04: int [1:604] 1 4 9 11 32 39 41 44 45 58 ...\n",
      "  .. ..$ Resample05: int [1:602] 6 14 18 24 34 60 63 73 78 88 ...\n",
      "  .. ..$ Resample06: int [1:602] 5 30 33 50 71 75 81 90 91 93 ...\n",
      "  .. ..$ Resample07: int [1:603] 8 13 27 53 56 76 77 84 103 113 ...\n",
      "  .. ..$ Resample08: int [1:604] 3 46 54 85 89 99 100 125 140 161 ...\n",
      "  .. ..$ Resample09: int [1:603] 16 17 20 21 29 38 43 51 69 82 ...\n",
      "  .. ..$ Resample10: int [1:601] 2 7 10 22 35 61 62 65 66 67 ...\n",
      "  ..$ indexFinal       : NULL\n",
      "  ..$ timingSamps      : num 0\n",
      "  ..$ predictionBounds : logi [1:2] FALSE FALSE\n",
      "  ..$ seeds            :List of 11\n",
      "  .. ..$ : int [1:16] 530831 471713 952328 569834 519332 832622 854987 439374 339943 695606 ...\n",
      "  .. ..$ : int [1:16] 486827 486366 750974 567888 999749 453796 523580 313283 109320 49147 ...\n",
      "  .. ..$ : int [1:16] 50450 849917 784640 706828 950733 593349 483028 160065 528884 572077 ...\n",
      "  .. ..$ : int [1:16] 332777 907151 598574 330633 727817 804329 66625 253255 124342 76178 ...\n",
      "  .. ..$ : int [1:16] 866360 902444 206526 530113 612034 226250 37622 734167 346452 366816 ...\n",
      "  .. ..$ : int [1:16] 804626 382521 624218 681738 190092 286446 367994 45138 319322 18956 ...\n",
      "  .. ..$ : int [1:16] 788836 855778 992281 739908 705773 754871 793908 275960 631686 186160 ...\n",
      "  .. ..$ : int [1:16] 864133 465291 555611 19379 128513 935538 530567 443127 568190 612586 ...\n",
      "  .. ..$ : int [1:16] 33223 879750 238378 329328 705726 139210 375061 882026 327812 784660 ...\n",
      "  .. ..$ : int [1:16] 862948 828980 91905 306483 467344 834387 59561 959691 569427 943795 ...\n",
      "  .. ..$ : int 941530\n",
      "  ..$ adaptive         :List of 4\n",
      "  .. ..$ min     : num 5\n",
      "  .. ..$ alpha   : num 0.05\n",
      "  .. ..$ method  : chr \"gls\"\n",
      "  .. ..$ complete: logi TRUE\n",
      "  ..$ trim             : logi FALSE\n",
      "  ..$ allowParallel    : logi TRUE\n",
      "  ..$ yLimits          : num [1:2] 7.02 11.04\n",
      " $ finalModel  :List of 18\n",
      "  ..$ a0         : Named num [1:100] 8.65 9.78 10.83 11.79 12.66 ...\n",
      "  .. ..- attr(*, \"names\")= chr [1:100] \"s0\" \"s1\" \"s2\" \"s3\" ...\n",
      "  ..$ beta       :Formal class 'dgCMatrix' [package \"Matrix\"] with 6 slots\n",
      "  .. .. ..@ i       : int [1:10175] 159 160 159 160 159 160 159 160 159 160 ...\n",
      "  .. .. ..@ p       : int [1:101] 0 0 2 4 6 8 10 12 14 16 ...\n",
      "  .. .. ..@ Dim     : int [1:2] 274 100\n",
      "  .. .. ..@ Dimnames:List of 2\n",
      "  .. .. .. ..$ : chr [1:274] \"V1\" \"V2\" \"V3\" \"V4\" ...\n",
      "  .. .. .. ..$ : chr [1:100] \"s0\" \"s1\" \"s2\" \"s3\" ...\n",
      "  .. .. ..@ x       : num [1:10175] -0.097 -0.126 -0.201 -0.229 -0.295 ...\n",
      "  .. .. ..@ factors : list()\n",
      "  ..$ df         : int [1:100] 0 2 2 2 2 2 2 2 2 2 ...\n",
      "  ..$ dim        : int [1:2] 274 100\n",
      "  ..$ lambda     : num [1:100] 0.477 0.435 0.396 0.361 0.329 ...\n",
      "  ..$ dev.ratio  : num [1:100] 0 0.069 0.128 0.176 0.217 ...\n",
      "  ..$ nulldev    : num 3889\n",
      "  ..$ npasses    : int 12610\n",
      "  ..$ jerr       : int 0\n",
      "  ..$ offset     : logi FALSE\n",
      "  ..$ call       : language (function (x, y, family = c(\"gaussian\", \"binomial\", \"poisson\", \"multinomial\",      \"cox\", \"mgaussian\"), weights, | __truncated__ ...\n",
      "  ..$ nobs       : int 6029\n",
      "  ..$ lambdaOpt  : num 0\n",
      "  ..$ xNames     : chr [1:274] \"V1\" \"V2\" \"V3\" \"V4\" ...\n",
      "  ..$ problemType: chr \"Regression\"\n",
      "  ..$ tuneValue  :'data.frame':\t1 obs. of  2 variables:\n",
      "  .. ..$ alpha : num 1\n",
      "  .. ..$ lambda: num 0\n",
      "  ..$ obsLevels  : logi NA\n",
      "  ..$ param      : list()\n",
      "  ..- attr(*, \"class\")= chr [1:2] \"elnet\" \"glmnet\"\n",
      " $ preProcess  : NULL\n",
      " $ trainingData:'data.frame':\t6029 obs. of  275 variables:\n",
      "  ..$ .outcome: num [1:6029] 8.76 7.9 10.21 8.33 10.39 ...\n",
      "  ..$ V1      : num [1:6029] 0 0 0 1 0 0 0 1 0 1 ...\n",
      "  ..$ V2      : num [1:6029] 1 0 1 0 1 0 0 0 1 0 ...\n",
      "  ..$ V3      : num [1:6029] 0 1 0 0 0 1 1 0 0 0 ...\n",
      "  ..$ V4      : num [1:6029] 0 0 0 0 0 0 0 0 0 0 ...\n",
      "  ..$ V5      : num [1:6029] 0 0 0 0 0 0 0 0 0 1 ...\n",
      "  ..$ V6      : num [1:6029] 1 1 1 1 0 0 0 1 1 0 ...\n",
      "  ..$ V7      : num [1:6029] 0 0 0 0 1 0 0 0 0 0 ...\n",
      "  ..$ V8      : num [1:6029] 0 0 0 0 0 1 1 0 0 0 ...\n",
      "  ..$ V9      : num [1:6029] 0 0 0 0 0 0 0 0 0 1 ...\n",
      "  ..$ V10     : num [1:6029] 1 1 0 0 0 1 1 0 1 0 ...\n",
      "  ..$ V11     : num [1:6029] 0 0 1 1 0 0 0 0 0 0 ...\n",
      "  ..$ V12     : num [1:6029] 0 0 0 0 1 0 0 1 0 0 ...\n",
      "  ..$ V13     : num [1:6029] 0 0 0 1 0 0 0 0 0 0 ...\n",
      "  ..$ V14     : num [1:6029] 0 1 1 0 1 0 0 0 0 1 ...\n",
      "  ..$ V15     : num [1:6029] 1 0 0 0 0 0 0 0 0 0 ...\n",
      "  ..$ V16     : num [1:6029] 0 0 0 0 0 1 1 1 1 0 ...\n",
      "  ..$ V17     : num [1:6029] 0 0 0 0 0 0 1 0 0 0 ...\n",
      "  ..$ V18     : num [1:6029] 0 1 1 0 0 0 0 1 0 1 ...\n",
      "  ..$ V19     : num [1:6029] 0 0 0 1 1 1 0 0 0 0 ...\n",
      "  ..$ V20     : num [1:6029] 1 0 0 0 0 0 0 0 1 0 ...\n",
      "  ..$ V21     : num [1:6029] 1 0 0 0 0 0 0 1 1 0 ...\n",
      "  ..$ V22     : num [1:6029] 0 0 0 1 1 0 0 0 0 0 ...\n",
      "  ..$ V23     : num [1:6029] 0 0 1 0 0 1 0 0 0 0 ...\n",
      "  ..$ V24     : num [1:6029] 0 1 0 0 0 0 1 0 0 1 ...\n",
      "  ..$ V25     : num [1:6029] 0 0 0 0 0 1 0 1 1 0 ...\n",
      "  ..$ V26     : num [1:6029] 1 1 0 0 1 0 0 0 0 0 ...\n",
      "  ..$ V27     : num [1:6029] 0 0 1 1 0 0 0 0 0 0 ...\n",
      "  ..$ V28     : num [1:6029] 0 0 0 0 0 0 1 0 0 1 ...\n",
      "  ..$ V29     : num [1:6029] 0 0 0 0 0 0 0 1 0 0 ...\n",
      "  ..$ V30     : num [1:6029] 0 1 0 0 0 0 0 0 0 1 ...\n",
      "  ..$ V31     : num [1:6029] 0 0 1 1 1 1 0 0 1 0 ...\n",
      "  ..$ V32     : num [1:6029] 1 0 0 0 0 0 1 0 0 0 ...\n",
      "  ..$ V33     : num [1:6029] 0 0 0 1 0 0 1 1 1 1 ...\n",
      "  ..$ V34     : num [1:6029] 0 0 1 0 0 0 0 0 0 0 ...\n",
      "  ..$ V35     : num [1:6029] 0 0 0 0 1 0 0 0 0 0 ...\n",
      "  ..$ V36     : num [1:6029] 1 1 0 0 0 1 0 0 0 0 ...\n",
      "  ..$ V37     : num [1:6029] 0 0 0 0 0 0 0 0 0 0 ...\n",
      "  ..$ V38     : num [1:6029] 0 1 1 1 0 1 0 0 0 0 ...\n",
      "  ..$ V39     : num [1:6029] 0 0 0 0 1 0 0 1 0 0 ...\n",
      "  ..$ V40     : num [1:6029] 1 0 0 0 0 0 1 0 1 1 ...\n",
      "  ..$ V41     : num [1:6029] 0 0 0 0 0 0 0 1 0 0 ...\n",
      "  ..$ V42     : num [1:6029] 1 0 1 0 0 0 0 0 0 0 ...\n",
      "  ..$ V43     : num [1:6029] 0 1 0 1 1 0 0 0 1 0 ...\n",
      "  ..$ V44     : num [1:6029] 0 0 0 0 0 1 1 0 0 1 ...\n",
      "  ..$ V45     : num [1:6029] 0 0 0 0 0 0 0 0 1 1 ...\n",
      "  ..$ V46     : num [1:6029] 0 0 0 0 0 0 0 0 0 0 ...\n",
      "  ..$ V47     : num [1:6029] 1 1 1 1 0 1 0 1 0 0 ...\n",
      "  ..$ V48     : num [1:6029] 0 0 0 0 1 0 1 0 0 0 ...\n",
      "  ..$ V49     : num [1:6029] 0 0 0 1 1 0 1 0 1 1 ...\n",
      "  ..$ V50     : num [1:6029] 0 0 0 0 0 0 0 0 0 0 ...\n",
      "  ..$ V51     : num [1:6029] 1 0 0 0 0 1 0 1 0 0 ...\n",
      "  ..$ V52     : num [1:6029] 0 1 1 0 0 0 0 0 0 0 ...\n",
      "  ..$ V53     : num [1:6029] 0 0 1 0 0 0 0 0 0 0 ...\n",
      "  ..$ V54     : num [1:6029] 0 0 0 1 0 0 1 0 1 1 ...\n",
      "  ..$ V55     : num [1:6029] 0 1 0 0 1 1 0 1 0 0 ...\n",
      "  ..$ V56     : num [1:6029] 1 0 0 0 0 0 0 0 0 0 ...\n",
      "  ..$ V57     : num [1:6029] 0 0 0 0 0 0 0 0 0 0 ...\n",
      "  ..$ V58     : num [1:6029] 0 0 0 0 0 0 1 0 1 1 ...\n",
      "  ..$ V59     : num [1:6029] 1 1 1 1 1 1 0 1 0 0 ...\n",
      "  ..$ V60     : num [1:6029] 0 0 0 0 0 0 0 0 0 0 ...\n",
      "  ..$ V61     : num [1:6029] 0 0 0 0 0 0 0 0 0 0 ...\n",
      "  ..$ V62     : num [1:6029] 0 0 0 0 0 0 0 0 0 0 ...\n",
      "  ..$ V63     : num [1:6029] 1 1 1 1 1 1 1 1 1 1 ...\n",
      "  ..$ V64     : num [1:6029] 0 0 0 0 0 0 0 0 0 0 ...\n",
      "  ..$ V65     : num [1:6029] 1 0 0 0 0 0 0 0 0 0 ...\n",
      "  ..$ V66     : num [1:6029] 0 0 0 0 0 0 0 0 0 0 ...\n",
      "  ..$ V67     : num [1:6029] 0 0 0 0 0 0 0 0 0 0 ...\n",
      "  ..$ V68     : num [1:6029] 0 1 1 1 1 1 1 1 1 1 ...\n",
      "  ..$ V69     : num [1:6029] 0 0 0 1 0 0 0 0 0 1 ...\n",
      "  ..$ V70     : num [1:6029] 0 0 0 0 0 0 0 0 0 0 ...\n",
      "  ..$ V71     : num [1:6029] 1 1 1 0 1 1 1 1 1 0 ...\n",
      "  ..$ V72     : num [1:6029] 0 0 0 0 0 0 0 0 0 0 ...\n",
      "  ..$ V73     : num [1:6029] 0 0 0 0 0 0 0 0 0 0 ...\n",
      "  ..$ V74     : num [1:6029] 1 1 1 1 1 0 0 1 1 1 ...\n",
      "  ..$ V75     : num [1:6029] 0 0 0 0 0 0 0 0 0 0 ...\n",
      "  ..$ V76     : num [1:6029] 0 0 0 0 0 1 1 0 0 0 ...\n",
      "  ..$ V77     : num [1:6029] 1 0 1 1 1 1 1 0 1 1 ...\n",
      "  ..$ V78     : num [1:6029] 0 0 0 0 0 0 0 0 0 0 ...\n",
      "  ..$ V79     : num [1:6029] 0 1 0 0 0 0 0 0 0 0 ...\n",
      "  ..$ V80     : num [1:6029] 0 0 0 0 0 0 0 1 0 0 ...\n",
      "  ..$ V81     : num [1:6029] 0 0 0 0 0 0 0 0 0 0 ...\n",
      "  ..$ V82     : num [1:6029] 1 1 1 1 1 1 1 1 1 1 ...\n",
      "  ..$ V83     : num [1:6029] 0 0 0 0 0 0 0 0 0 0 ...\n",
      "  ..$ V84     : num [1:6029] 0 0 0 0 0 0 0 0 0 0 ...\n",
      "  ..$ V85     : num [1:6029] 0 0 0 0 0 0 0 0 0 1 ...\n",
      "  ..$ V86     : num [1:6029] 1 0 1 0 1 0 1 1 1 0 ...\n",
      "  ..$ V87     : num [1:6029] 0 1 0 1 0 1 0 0 0 0 ...\n",
      "  ..$ V88     : num [1:6029] 0 0 0 0 0 0 0 0 0 0 ...\n",
      "  ..$ V89     : num [1:6029] 1 0 0 0 1 0 1 0 0 0 ...\n",
      "  ..$ V90     : num [1:6029] 0 0 1 0 0 0 0 0 0 0 ...\n",
      "  ..$ V91     : num [1:6029] 0 1 0 0 0 0 0 1 1 1 ...\n",
      "  ..$ V92     : num [1:6029] 0 0 0 1 0 1 0 0 0 0 ...\n",
      "  ..$ V93     : num [1:6029] 1 0 1 0 1 0 0 1 0 1 ...\n",
      "  ..$ V94     : num [1:6029] 0 0 0 1 0 1 0 0 0 0 ...\n",
      "  ..$ V95     : num [1:6029] 0 0 0 0 0 0 0 0 1 0 ...\n",
      "  ..$ V96     : num [1:6029] 0 1 0 0 0 0 1 0 0 0 ...\n",
      "  ..$ V97     : num [1:6029] 1 0 0 0 0 0 0 0 0 0 ...\n",
      "  ..$ V98     : num [1:6029] 0 0 0 0 0 1 1 1 0 1 ...\n",
      "  .. [list output truncated]\n",
      " $ resample    :'data.frame':\t10 obs. of  4 variables:\n",
      "  ..$ RMSE    : num [1:10] 0.177 0.167 0.171 0.165 0.177 ...\n",
      "  ..$ Rsquared: num [1:10] 0.95 0.96 0.954 0.958 0.952 ...\n",
      "  ..$ MAE     : num [1:10] 0.135 0.133 0.131 0.128 0.139 ...\n",
      "  ..$ Resample: chr [1:10] \"Fold01\" \"Fold06\" \"Fold07\" \"Fold03\" ...\n",
      " $ resampledCM : NULL\n",
      " $ perfNames   : chr [1:3] \"RMSE\" \"Rsquared\" \"MAE\"\n",
      " $ maximize    : logi FALSE\n",
      " $ yLimits     : num [1:2] 7.02 11.04\n",
      " $ times       :List of 3\n",
      "  ..$ everything: 'proc_time' Named num [1:5] 155.2 3.5 160.7 NA NA\n",
      "  .. ..- attr(*, \"names\")= chr [1:5] \"user.self\" \"sys.self\" \"elapsed\" \"user.child\" ...\n",
      "  ..$ final     : 'proc_time' Named num [1:5] 1.71 0 1.72 NA NA\n",
      "  .. ..- attr(*, \"names\")= chr [1:5] \"user.self\" \"sys.self\" \"elapsed\" \"user.child\" ...\n",
      "  ..$ prediction: logi [1:3] NA NA NA\n",
      " $ levels      : logi NA\n",
      " $ terms       :Classes 'terms', 'formula'  language gt ~ V1 + V2 + V3 + V4 + V5 + V6 + V7 + V8 + V9 + V10 + V11 + V12 + V13 +      V14 + V15 + V16 + V17 + V18 + V19 | __truncated__ ...\n",
      "  .. ..- attr(*, \"variables\")= language list(gt, V1, V2, V3, V4, V5, V6, V7, V8, V9, V10, V11, V12, V13, V14, V15,      V16, V17, V18, V19, V20, V21, V22| __truncated__ ...\n",
      "  .. ..- attr(*, \"factors\")= int [1:275, 1:274] 0 1 0 0 0 0 0 0 0 0 ...\n",
      "  .. .. ..- attr(*, \"dimnames\")=List of 2\n",
      "  .. .. .. ..$ : chr [1:275] \"gt\" \"V1\" \"V2\" \"V3\" ...\n",
      "  .. .. .. ..$ : chr [1:274] \"V1\" \"V2\" \"V3\" \"V4\" ...\n",
      "  .. ..- attr(*, \"term.labels\")= chr [1:274] \"V1\" \"V2\" \"V3\" \"V4\" ...\n",
      "  .. ..- attr(*, \"order\")= int [1:274] 1 1 1 1 1 1 1 1 1 1 ...\n",
      "  .. ..- attr(*, \"intercept\")= int 1\n",
      "  .. ..- attr(*, \"response\")= int 1\n",
      "  .. ..- attr(*, \".Environment\")=<environment: R_GlobalEnv> \n",
      "  .. ..- attr(*, \"predvars\")= language list(gt, V1, V2, V3, V4, V5, V6, V7, V8, V9, V10, V11, V12, V13, V14, V15,      V16, V17, V18, V19, V20, V21, V22| __truncated__ ...\n",
      "  .. ..- attr(*, \"dataClasses\")= Named chr [1:275] \"numeric\" \"numeric\" \"numeric\" \"numeric\" ...\n",
      "  .. .. ..- attr(*, \"names\")= chr [1:275] \"gt\" \"V1\" \"V2\" \"V3\" ...\n",
      " $ coefnames   : chr [1:274] \"V1\" \"V2\" \"V3\" \"V4\" ...\n",
      " $ xlevels     : Named list()\n",
      " - attr(*, \"class\")= chr [1:2] \"train\" \"train.formula\"\n"
     ]
    }
   ],
   "source": [
    "str(model.l1.shape[[1]])"
   ]
  },
  {
   "cell_type": "markdown",
   "metadata": {},
   "source": [
    "#### Predictions"
   ]
  },
  {
   "cell_type": "code",
   "execution_count": 28,
   "metadata": {},
   "outputs": [],
   "source": [
    "pred.l1.shape <- list()\n",
    "pred.l1.seq <- list()\n",
    "for (n in ns) {\n",
    "    pred.l1.shape[[n]] <- predict(model.l1.shape[[n]], test.data.shape[[n]])\n",
    "    pred.l1.seq[[n]] <- predict(model.l1.seq[[n]], test.data.seq[[n]])\n",
    "}"
   ]
  },
  {
   "cell_type": "code",
   "execution_count": 29,
   "metadata": {},
   "outputs": [],
   "source": [
    "pred.l2.shape <- list()\n",
    "pred.l2.seq <- list()\n",
    "for (n in ns) {\n",
    "    pred.l2.shape[[n]] <- predict(model.l2.shape[[n]], test.data.shape[[n]])\n",
    "    pred.l2.seq[[n]] <- predict(model.l2.seq[[n]], test.data.seq[[n]])\n",
    "}"
   ]
  },
  {
   "cell_type": "markdown",
   "metadata": {},
   "source": [
    "#### Compare sequence vs shape"
   ]
  },
  {
   "cell_type": "code",
   "execution_count": 30,
   "metadata": {},
   "outputs": [],
   "source": [
    "## Theme\n",
    "my.theme <- theme(\n",
    "  axis.text = element_text(colour=\"black\", size=12),\n",
    "  axis.title.x = element_text(colour=\"black\", size=12),\n",
    "  axis.title.y = element_text(colour=\"black\", size=12),\n",
    "  panel.grid.major = element_blank(),\n",
    "  panel.grid.minor = element_blank(),\n",
    "  panel.background = element_blank(),\n",
    "  axis.line = element_line(colour = \"black\"),\n",
    "#  axis.text = element_text(colour =\"black\"),\n",
    "  axis.ticks = element_line(colour = \"black\"),\n",
    ")"
   ]
  },
  {
   "cell_type": "code",
   "execution_count": 31,
   "metadata": {},
   "outputs": [],
   "source": [
    "RS <- function(y_prediction, y_testing){\n",
    "   1 - ( sum( y_testing - y_prediction ) ^ 2 ) / sum( (y_testing - mean( y_testing ) ) ^ 2 )  \n",
    "} "
   ]
  },
  {
   "cell_type": "markdown",
   "metadata": {},
   "source": [
    "*Rsquared on Test Data*"
   ]
  },
  {
   "cell_type": "code",
   "execution_count": 38,
   "metadata": {},
   "outputs": [
    {
     "data": {
      "image/png": "[encoded data removed]",
      "text/plain": [
       "plot without title"
      ]
     },
     "metadata": {},
     "output_type": "display_data"
    },
    {
     "data": {
      "image/png": "[encoded data removed]",
      "text/plain": [
       "plot without title"
      ]
     },
     "metadata": {},
     "output_type": "display_data"
    }
   ],
   "source": [
    "x <- c()\n",
    "y <- c()\n",
    "for (n in ns) {\n",
    "    x <- c(x,RS(pred.l1.shape[[n]], data.frame(test.data.shape[[n]])$gt))\n",
    "    y <- c(y,RS(pred.l1.seq[[n]], data.frame(test.data.seq[[n]])$gt))\n",
    "}\n",
    "print(ggplot() +\n",
    "  geom_point(aes(x = x, y = y), color = \"red\", size=5) +\n",
    "  geom_abline(slope=1) + geom_vline(xintercept=0) + geom_hline(yintercept=0) +\n",
    "  coord_fixed(ratio = 1, xlim = c(0,1), ylim = c(0,1)) +\n",
    "  scale_x_continuous(expand = c(0, 0)) + scale_y_continuous(expand = c(0, 0))) + my.theme"
   ]
  },
  {
   "cell_type": "code",
   "execution_count": 37,
   "metadata": {},
   "outputs": [
    {
     "data": {
      "image/png": "[encoded data removed]",
      "text/plain": [
       "plot without title"
      ]
     },
     "metadata": {},
     "output_type": "display_data"
    },
    {
     "data": {
      "image/png": "[encoded data removed]",
      "text/plain": [
       "plot without title"
      ]
     },
     "metadata": {},
     "output_type": "display_data"
    }
   ],
   "source": [
    "x <- c()\n",
    "y <- c()\n",
    "for (n in ns) {\n",
    "    x <- c(x,RS(pred.l2.shape[[n]], data.frame(test.data.shape[[n]])$gt))\n",
    "    y <- c(y,RS(pred.l2.seq[[n]], data.frame(test.data.seq[[n]])$gt))\n",
    "}\n",
    "print(ggplot() +\n",
    "  geom_point(aes(x = x, y = y), color = \"red\", size=5) +\n",
    "  geom_abline(slope=1) + geom_vline(xintercept=0) + geom_hline(yintercept=0) +\n",
    "  coord_fixed(ratio = 1, xlim = c(0,1), ylim = c(0,1)) +\n",
    "  scale_x_continuous(expand = c(0, 0)) + scale_y_continuous(expand = c(0, 0))) + my.theme"
   ]
  },
  {
   "cell_type": "markdown",
   "metadata": {},
   "source": [
    "#### Compare models"
   ]
  },
  {
   "cell_type": "code",
   "execution_count": 40,
   "metadata": {},
   "outputs": [
    {
     "data": {
      "image/png": "[encoded data removed]",
      "text/plain": [
       "plot without title"
      ]
     },
     "metadata": {},
     "output_type": "display_data"
    },
    {
     "data": {
      "image/png": "[encoded data removed]",
      "text/plain": [
       "plot without title"
      ]
     },
     "metadata": {},
     "output_type": "display_data"
    }
   ],
   "source": [
    "x <- c()\n",
    "y <- c()\n",
    "for (n in ns) {\n",
    "    x <- c(x,RS(pred.l1.shape[[n]], data.frame(test.data.shape[[n]])$gt))\n",
    "    y <- c(y,RS(pred.l2.shape[[n]], data.frame(test.data.shape[[n]])$gt))\n",
    "}\n",
    "print(ggplot() +\n",
    "  geom_point(aes(x = x, y = y), color = \"red\", size=5) +\n",
    "  geom_abline(slope=1) + geom_vline(xintercept=0) + geom_hline(yintercept=0) +\n",
    "  coord_fixed(ratio = 1, xlim = c(0,1), ylim = c(0,1)) +\n",
    "  scale_x_continuous(expand = c(0, 0)) + scale_y_continuous(expand = c(0, 0))) + my.theme"
   ]
  }
 ],
 "metadata": {
  "kernelspec": {
   "display_name": "R",
   "language": "R",
   "name": "ir"
  },
  "language_info": {
   "codemirror_mode": "r",
   "file_extension": ".r",
   "mimetype": "text/x-r-source",
   "name": "R",
   "pygments_lexer": "r",
   "version": "3.6.1"
  }
 },
 "nbformat": 4,
 "nbformat_minor": 4
}
